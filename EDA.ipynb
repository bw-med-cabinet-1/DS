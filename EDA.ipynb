{
 "cells": [
  {
   "cell_type": "code",
   "execution_count": 33,
   "metadata": {},
   "outputs": [],
   "source": [
    "import pandas as pd\n",
    "import numpy as np\n",
    "import re"
   ]
  },
  {
   "cell_type": "code",
   "execution_count": 2,
   "metadata": {},
   "outputs": [],
   "source": [
    "df = pd.read_csv('./data/Cannabis_Strains_Features_cannabis.csv')"
   ]
  },
  {
   "cell_type": "code",
   "execution_count": 3,
   "metadata": {},
   "outputs": [
    {
     "name": "stdout",
     "output_type": "stream",
     "text": [
      "(2351, 6) \n",
      "\n"
     ]
    },
    {
     "data": {
      "text/html": [
       "<div>\n",
       "<style scoped>\n",
       "    .dataframe tbody tr th:only-of-type {\n",
       "        vertical-align: middle;\n",
       "    }\n",
       "\n",
       "    .dataframe tbody tr th {\n",
       "        vertical-align: top;\n",
       "    }\n",
       "\n",
       "    .dataframe thead th {\n",
       "        text-align: right;\n",
       "    }\n",
       "</style>\n",
       "<table border=\"1\" class=\"dataframe\">\n",
       "  <thead>\n",
       "    <tr style=\"text-align: right;\">\n",
       "      <th></th>\n",
       "      <th>Strain</th>\n",
       "      <th>Type</th>\n",
       "      <th>Rating</th>\n",
       "      <th>Effects</th>\n",
       "      <th>Flavor</th>\n",
       "      <th>Description</th>\n",
       "    </tr>\n",
       "  </thead>\n",
       "  <tbody>\n",
       "    <tr>\n",
       "      <th>0</th>\n",
       "      <td>100-Og</td>\n",
       "      <td>hybrid</td>\n",
       "      <td>4.0</td>\n",
       "      <td>Creative,Energetic,Tingly,Euphoric,Relaxed</td>\n",
       "      <td>Earthy,Sweet,Citrus</td>\n",
       "      <td>$100 OG is a 50/50 hybrid strain that packs a ...</td>\n",
       "    </tr>\n",
       "    <tr>\n",
       "      <th>1</th>\n",
       "      <td>98-White-Widow</td>\n",
       "      <td>hybrid</td>\n",
       "      <td>4.7</td>\n",
       "      <td>Relaxed,Aroused,Creative,Happy,Energetic</td>\n",
       "      <td>Flowery,Violet,Diesel</td>\n",
       "      <td>The ‘98 Aloha White Widow is an especially pot...</td>\n",
       "    </tr>\n",
       "    <tr>\n",
       "      <th>2</th>\n",
       "      <td>1024</td>\n",
       "      <td>sativa</td>\n",
       "      <td>4.4</td>\n",
       "      <td>Uplifted,Happy,Relaxed,Energetic,Creative</td>\n",
       "      <td>Spicy/Herbal,Sage,Woody</td>\n",
       "      <td>1024 is a sativa-dominant hybrid bred in Spain...</td>\n",
       "    </tr>\n",
       "    <tr>\n",
       "      <th>3</th>\n",
       "      <td>13-Dawgs</td>\n",
       "      <td>hybrid</td>\n",
       "      <td>4.2</td>\n",
       "      <td>Tingly,Creative,Hungry,Relaxed,Uplifted</td>\n",
       "      <td>Apricot,Citrus,Grapefruit</td>\n",
       "      <td>13 Dawgs is a hybrid of G13 and Chemdawg genet...</td>\n",
       "    </tr>\n",
       "    <tr>\n",
       "      <th>4</th>\n",
       "      <td>24K-Gold</td>\n",
       "      <td>hybrid</td>\n",
       "      <td>4.6</td>\n",
       "      <td>Happy,Relaxed,Euphoric,Uplifted,Talkative</td>\n",
       "      <td>Citrus,Earthy,Orange</td>\n",
       "      <td>Also known as Kosher Tangie, 24k Gold is a 60%...</td>\n",
       "    </tr>\n",
       "  </tbody>\n",
       "</table>\n",
       "</div>"
      ],
      "text/plain": [
       "           Strain    Type  Rating                                     Effects  \\\n",
       "0          100-Og  hybrid     4.0  Creative,Energetic,Tingly,Euphoric,Relaxed   \n",
       "1  98-White-Widow  hybrid     4.7    Relaxed,Aroused,Creative,Happy,Energetic   \n",
       "2            1024  sativa     4.4   Uplifted,Happy,Relaxed,Energetic,Creative   \n",
       "3        13-Dawgs  hybrid     4.2     Tingly,Creative,Hungry,Relaxed,Uplifted   \n",
       "4        24K-Gold  hybrid     4.6   Happy,Relaxed,Euphoric,Uplifted,Talkative   \n",
       "\n",
       "                      Flavor  \\\n",
       "0        Earthy,Sweet,Citrus   \n",
       "1      Flowery,Violet,Diesel   \n",
       "2    Spicy/Herbal,Sage,Woody   \n",
       "3  Apricot,Citrus,Grapefruit   \n",
       "4       Citrus,Earthy,Orange   \n",
       "\n",
       "                                         Description  \n",
       "0  $100 OG is a 50/50 hybrid strain that packs a ...  \n",
       "1  The ‘98 Aloha White Widow is an especially pot...  \n",
       "2  1024 is a sativa-dominant hybrid bred in Spain...  \n",
       "3  13 Dawgs is a hybrid of G13 and Chemdawg genet...  \n",
       "4  Also known as Kosher Tangie, 24k Gold is a 60%...  "
      ]
     },
     "execution_count": 3,
     "metadata": {},
     "output_type": "execute_result"
    }
   ],
   "source": [
    "print(df.shape, '\\n')\n",
    "df.head()"
   ]
  },
  {
   "cell_type": "code",
   "execution_count": 4,
   "metadata": {},
   "outputs": [
    {
     "name": "stdout",
     "output_type": "stream",
     "text": [
      "<class 'pandas.core.frame.DataFrame'>\n",
      "RangeIndex: 2351 entries, 0 to 2350\n",
      "Data columns (total 6 columns):\n",
      " #   Column       Non-Null Count  Dtype  \n",
      "---  ------       --------------  -----  \n",
      " 0   Strain       2351 non-null   object \n",
      " 1   Type         2351 non-null   object \n",
      " 2   Rating       2351 non-null   float64\n",
      " 3   Effects      2351 non-null   object \n",
      " 4   Flavor       2350 non-null   object \n",
      " 5   Description  2350 non-null   object \n",
      "dtypes: float64(1), object(5)\n",
      "memory usage: 110.3+ KB\n"
     ]
    }
   ],
   "source": [
    "df.info()"
   ]
  },
  {
   "cell_type": "code",
   "execution_count": 5,
   "metadata": {},
   "outputs": [],
   "source": [
    "nans = df.isnull().sum()"
   ]
  },
  {
   "cell_type": "code",
   "execution_count": 6,
   "metadata": {},
   "outputs": [
    {
     "data": {
      "text/plain": [
       "Strain         0\n",
       "Type           0\n",
       "Rating         0\n",
       "Effects        0\n",
       "Flavor         1\n",
       "Description    1\n",
       "dtype: int64"
      ]
     },
     "execution_count": 6,
     "metadata": {},
     "output_type": "execute_result"
    }
   ],
   "source": [
    "nans"
   ]
  },
  {
   "cell_type": "code",
   "execution_count": 7,
   "metadata": {},
   "outputs": [],
   "source": [
    "# Fixing formatting\n",
    "df['Effects'] = df['Effects'].str.lower()\n",
    "df['Flavor'] = df['Flavor'].str.lower()\n",
    "df['Description'] = df['Description'].str.lower()\n",
    "df['Strain'] = df['Strain'].str.lower()"
   ]
  },
  {
   "cell_type": "code",
   "execution_count": 8,
   "metadata": {},
   "outputs": [],
   "source": [
    "#make the data PostgreSQL friendly\n",
    "df[\"Description\"] = df[\"Description\"].str.replace(\"'\", '')\n",
    "df.Effects = df.Effects.str.replace(\",\", \", \")\n",
    "df.Flavor = df.Flavor.str.replace(\",\", \", \")\n",
    "df.replace(np.nan, '', inplace=True)"
   ]
  },
  {
   "cell_type": "code",
   "execution_count": 9,
   "metadata": {},
   "outputs": [],
   "source": [
    "df = df.dropna().reset_index().drop(columns=['index']).reset_index()"
   ]
  },
  {
   "cell_type": "code",
   "execution_count": 10,
   "metadata": {},
   "outputs": [],
   "source": [
    "# sorting the values by the ratings\n",
    "df = df.sort_values(by=['Rating'], ascending=False)"
   ]
  },
  {
   "cell_type": "code",
   "execution_count": 11,
   "metadata": {},
   "outputs": [],
   "source": [
    "# replace index column name to Strain_ID\n",
    "df = df.rename(columns = {'index': 'Strain_ID'})\n"
   ]
  },
  {
   "cell_type": "code",
   "execution_count": 24,
   "metadata": {},
   "outputs": [],
   "source": [
    "# df = df.replace({'': 'index'})"
   ]
  },
  {
   "cell_type": "code",
   "execution_count": 29,
   "metadata": {},
   "outputs": [],
   "source": [
    "# changing headers from upper to lower case\n",
    "df = df.rename(columns = {'Strain_ID': 'strain_id', 'Strain': 'strain', 'Type': 'type', 'Effects': 'effects', 'Flavor': 'flavor',\n",
    "                         'Description': 'description'})"
   ]
  },
  {
   "cell_type": "code",
   "execution_count": 31,
   "metadata": {},
   "outputs": [
    {
     "data": {
      "text/html": [
       "<div>\n",
       "<style scoped>\n",
       "    .dataframe tbody tr th:only-of-type {\n",
       "        vertical-align: middle;\n",
       "    }\n",
       "\n",
       "    .dataframe tbody tr th {\n",
       "        vertical-align: top;\n",
       "    }\n",
       "\n",
       "    .dataframe thead th {\n",
       "        text-align: right;\n",
       "    }\n",
       "</style>\n",
       "<table border=\"1\" class=\"dataframe\">\n",
       "  <thead>\n",
       "    <tr style=\"text-align: right;\">\n",
       "      <th></th>\n",
       "      <th>strain_id</th>\n",
       "      <th>strain</th>\n",
       "      <th>type</th>\n",
       "      <th>Rating</th>\n",
       "      <th>effects</th>\n",
       "      <th>flavor</th>\n",
       "      <th>description</th>\n",
       "    </tr>\n",
       "  </thead>\n",
       "  <tbody>\n",
       "    <tr>\n",
       "      <th>976</th>\n",
       "      <td>976</td>\n",
       "      <td>guptilla</td>\n",
       "      <td>hybrid</td>\n",
       "      <td>5.0</td>\n",
       "      <td>happy, relaxed, euphoric, focused, sleepy</td>\n",
       "      <td>grape, pepper, orange</td>\n",
       "      <td>guptilla is a potent indica-dominant cross bre...</td>\n",
       "    </tr>\n",
       "    <tr>\n",
       "      <th>1744</th>\n",
       "      <td>1744</td>\n",
       "      <td>rafael</td>\n",
       "      <td>sativa</td>\n",
       "      <td>5.0</td>\n",
       "      <td>uplifted, happy, energentic\\n</td>\n",
       "      <td>pine</td>\n",
       "      <td>rafael (or raphael) is a sativa-dominant strai...</td>\n",
       "    </tr>\n",
       "    <tr>\n",
       "      <th>157</th>\n",
       "      <td>157</td>\n",
       "      <td>bcn-diesel</td>\n",
       "      <td>hybrid</td>\n",
       "      <td>5.0</td>\n",
       "      <td>sleepy, focused, happy, hungry</td>\n",
       "      <td>none</td>\n",
       "      <td>bcn diesel by kannabia seed company is a punge...</td>\n",
       "    </tr>\n",
       "    <tr>\n",
       "      <th>818</th>\n",
       "      <td>818</td>\n",
       "      <td>frosty-jesus</td>\n",
       "      <td>hybrid</td>\n",
       "      <td>5.0</td>\n",
       "      <td>tingly, creative, euphoric, focused, happy</td>\n",
       "      <td>diesel, spicy/herbal, earthy</td>\n",
       "      <td>frosty jesus is a clone-only strain from rebel...</td>\n",
       "    </tr>\n",
       "    <tr>\n",
       "      <th>160</th>\n",
       "      <td>160</td>\n",
       "      <td>bad-azz-kush</td>\n",
       "      <td>hybrid</td>\n",
       "      <td>5.0</td>\n",
       "      <td>none</td>\n",
       "      <td>none</td>\n",
       "      <td>bad azz kush by barney’s farm was created with...</td>\n",
       "    </tr>\n",
       "    <tr>\n",
       "      <th>1313</th>\n",
       "      <td>1313</td>\n",
       "      <td>lucid-bolt</td>\n",
       "      <td>indica</td>\n",
       "      <td>5.0</td>\n",
       "      <td>giggly, hungry, relaxed, sleepy, talkative</td>\n",
       "      <td>blueberry, berry, earthy</td>\n",
       "      <td>lucid bolt is a functional indica-dominant hyb...</td>\n",
       "    </tr>\n",
       "    <tr>\n",
       "      <th>2146</th>\n",
       "      <td>2146</td>\n",
       "      <td>the-ooze</td>\n",
       "      <td>indica</td>\n",
       "      <td>5.0</td>\n",
       "      <td>tingly, uplifted, creative, euphoric, focused</td>\n",
       "      <td>spicy/herbal, sweet, apple</td>\n",
       "      <td>the ooze is an 80/20 indica-dominant cross of ...</td>\n",
       "    </tr>\n",
       "    <tr>\n",
       "      <th>1311</th>\n",
       "      <td>1311</td>\n",
       "      <td>luca-brasi</td>\n",
       "      <td>hybrid</td>\n",
       "      <td>5.0</td>\n",
       "      <td>relaxed, sleepy, hungry\\n</td>\n",
       "      <td>citrus</td>\n",
       "      <td>luca brasi is the indica-dominant hybrid of he...</td>\n",
       "    </tr>\n",
       "    <tr>\n",
       "      <th>423</th>\n",
       "      <td>423</td>\n",
       "      <td>cbd-rich-blessing</td>\n",
       "      <td>sativa</td>\n",
       "      <td>5.0</td>\n",
       "      <td>aroused, uplifted, focused, happy, relaxed</td>\n",
       "      <td>none</td>\n",
       "      <td>cbd rich blessing by bodhi seeds is a 2:1 thc/...</td>\n",
       "    </tr>\n",
       "    <tr>\n",
       "      <th>422</th>\n",
       "      <td>422</td>\n",
       "      <td>cbd-ox</td>\n",
       "      <td>indica</td>\n",
       "      <td>5.0</td>\n",
       "      <td>aroused, sleepy, happy, euphoric, hungry</td>\n",
       "      <td>sweet, berry, flowery</td>\n",
       "      <td>cbd ox by rare dankness is a 1:1 cbd/thc strai...</td>\n",
       "    </tr>\n",
       "  </tbody>\n",
       "</table>\n",
       "</div>"
      ],
      "text/plain": [
       "      strain_id             strain    type  Rating  \\\n",
       "976         976           guptilla  hybrid     5.0   \n",
       "1744       1744             rafael  sativa     5.0   \n",
       "157         157         bcn-diesel  hybrid     5.0   \n",
       "818         818       frosty-jesus  hybrid     5.0   \n",
       "160         160       bad-azz-kush  hybrid     5.0   \n",
       "1313       1313         lucid-bolt  indica     5.0   \n",
       "2146       2146           the-ooze  indica     5.0   \n",
       "1311       1311         luca-brasi  hybrid     5.0   \n",
       "423         423  cbd-rich-blessing  sativa     5.0   \n",
       "422         422             cbd-ox  indica     5.0   \n",
       "\n",
       "                                            effects  \\\n",
       "976       happy, relaxed, euphoric, focused, sleepy   \n",
       "1744                  uplifted, happy, energentic\\n   \n",
       "157                  sleepy, focused, happy, hungry   \n",
       "818      tingly, creative, euphoric, focused, happy   \n",
       "160                                            none   \n",
       "1313     giggly, hungry, relaxed, sleepy, talkative   \n",
       "2146  tingly, uplifted, creative, euphoric, focused   \n",
       "1311                      relaxed, sleepy, hungry\\n   \n",
       "423      aroused, uplifted, focused, happy, relaxed   \n",
       "422        aroused, sleepy, happy, euphoric, hungry   \n",
       "\n",
       "                            flavor  \\\n",
       "976          grape, pepper, orange   \n",
       "1744                          pine   \n",
       "157                           none   \n",
       "818   diesel, spicy/herbal, earthy   \n",
       "160                           none   \n",
       "1313      blueberry, berry, earthy   \n",
       "2146    spicy/herbal, sweet, apple   \n",
       "1311                        citrus   \n",
       "423                           none   \n",
       "422          sweet, berry, flowery   \n",
       "\n",
       "                                            description  \n",
       "976   guptilla is a potent indica-dominant cross bre...  \n",
       "1744  rafael (or raphael) is a sativa-dominant strai...  \n",
       "157   bcn diesel by kannabia seed company is a punge...  \n",
       "818   frosty jesus is a clone-only strain from rebel...  \n",
       "160   bad azz kush by barney’s farm was created with...  \n",
       "1313  lucid bolt is a functional indica-dominant hyb...  \n",
       "2146  the ooze is an 80/20 indica-dominant cross of ...  \n",
       "1311  luca brasi is the indica-dominant hybrid of he...  \n",
       "423   cbd rich blessing by bodhi seeds is a 2:1 thc/...  \n",
       "422   cbd ox by rare dankness is a 1:1 cbd/thc strai...  "
      ]
     },
     "execution_count": 31,
     "metadata": {},
     "output_type": "execute_result"
    }
   ],
   "source": [
    "df.head(10)"
   ]
  },
  {
   "cell_type": "code",
   "execution_count": 21,
   "metadata": {},
   "outputs": [
    {
     "data": {
      "text/plain": [
       "(0.0, 5.0, 2351)"
      ]
     },
     "execution_count": 21,
     "metadata": {},
     "output_type": "execute_result"
    }
   ],
   "source": [
    "# checking the ratings values\n",
    "df['Rating'].min(), df['Rating'].max(), len(df['Rating'])"
   ]
  },
  {
   "cell_type": "code",
   "execution_count": 35,
   "metadata": {},
   "outputs": [
    {
     "data": {
      "text/plain": [
       "976         happy, relaxed, euphoric, focused, sleepy\n",
       "1744                      uplifted, happy, energentic\n",
       "157                    sleepy, focused, happy, hungry\n",
       "818        tingly, creative, euphoric, focused, happy\n",
       "160                                              none\n",
       "                            ...                      \n",
       "1577    uplifted, creative, euphoric, focused, giggly\n",
       "1589                                             none\n",
       "54                                               none\n",
       "524       aroused, sleepy, tingly, uplifted, euphoric\n",
       "1781                                             none\n",
       "Name: effects, Length: 2351, dtype: object"
      ]
     },
     "execution_count": 35,
     "metadata": {},
     "output_type": "execute_result"
    }
   ],
   "source": [
    "# cleaning using RegEx re.sub() function to replace '\\n' sub-string with \"\".\n",
    "df['effects'] = df['effects'].apply(lambda x : re.sub(r'\\n', \"\", x))\n",
    "df['effects']"
   ]
  },
  {
   "cell_type": "code",
   "execution_count": 36,
   "metadata": {},
   "outputs": [
    {
     "data": {
      "text/html": [
       "<div>\n",
       "<style scoped>\n",
       "    .dataframe tbody tr th:only-of-type {\n",
       "        vertical-align: middle;\n",
       "    }\n",
       "\n",
       "    .dataframe tbody tr th {\n",
       "        vertical-align: top;\n",
       "    }\n",
       "\n",
       "    .dataframe thead th {\n",
       "        text-align: right;\n",
       "    }\n",
       "</style>\n",
       "<table border=\"1\" class=\"dataframe\">\n",
       "  <thead>\n",
       "    <tr style=\"text-align: right;\">\n",
       "      <th></th>\n",
       "      <th>strain_id</th>\n",
       "      <th>strain</th>\n",
       "      <th>type</th>\n",
       "      <th>Rating</th>\n",
       "      <th>effects</th>\n",
       "      <th>flavor</th>\n",
       "      <th>description</th>\n",
       "    </tr>\n",
       "  </thead>\n",
       "  <tbody>\n",
       "    <tr>\n",
       "      <th>976</th>\n",
       "      <td>976</td>\n",
       "      <td>guptilla</td>\n",
       "      <td>hybrid</td>\n",
       "      <td>5.0</td>\n",
       "      <td>happy, relaxed, euphoric, focused, sleepy</td>\n",
       "      <td>grape, pepper, orange</td>\n",
       "      <td>guptilla is a potent indica-dominant cross bre...</td>\n",
       "    </tr>\n",
       "    <tr>\n",
       "      <th>1744</th>\n",
       "      <td>1744</td>\n",
       "      <td>rafael</td>\n",
       "      <td>sativa</td>\n",
       "      <td>5.0</td>\n",
       "      <td>uplifted, happy, energentic</td>\n",
       "      <td>pine</td>\n",
       "      <td>rafael (or raphael) is a sativa-dominant strai...</td>\n",
       "    </tr>\n",
       "    <tr>\n",
       "      <th>157</th>\n",
       "      <td>157</td>\n",
       "      <td>bcn-diesel</td>\n",
       "      <td>hybrid</td>\n",
       "      <td>5.0</td>\n",
       "      <td>sleepy, focused, happy, hungry</td>\n",
       "      <td>none</td>\n",
       "      <td>bcn diesel by kannabia seed company is a punge...</td>\n",
       "    </tr>\n",
       "    <tr>\n",
       "      <th>818</th>\n",
       "      <td>818</td>\n",
       "      <td>frosty-jesus</td>\n",
       "      <td>hybrid</td>\n",
       "      <td>5.0</td>\n",
       "      <td>tingly, creative, euphoric, focused, happy</td>\n",
       "      <td>diesel, spicy/herbal, earthy</td>\n",
       "      <td>frosty jesus is a clone-only strain from rebel...</td>\n",
       "    </tr>\n",
       "    <tr>\n",
       "      <th>160</th>\n",
       "      <td>160</td>\n",
       "      <td>bad-azz-kush</td>\n",
       "      <td>hybrid</td>\n",
       "      <td>5.0</td>\n",
       "      <td>none</td>\n",
       "      <td>none</td>\n",
       "      <td>bad azz kush by barney’s farm was created with...</td>\n",
       "    </tr>\n",
       "  </tbody>\n",
       "</table>\n",
       "</div>"
      ],
      "text/plain": [
       "      strain_id        strain    type  Rating  \\\n",
       "976         976      guptilla  hybrid     5.0   \n",
       "1744       1744        rafael  sativa     5.0   \n",
       "157         157    bcn-diesel  hybrid     5.0   \n",
       "818         818  frosty-jesus  hybrid     5.0   \n",
       "160         160  bad-azz-kush  hybrid     5.0   \n",
       "\n",
       "                                         effects  \\\n",
       "976    happy, relaxed, euphoric, focused, sleepy   \n",
       "1744                 uplifted, happy, energentic   \n",
       "157               sleepy, focused, happy, hungry   \n",
       "818   tingly, creative, euphoric, focused, happy   \n",
       "160                                         none   \n",
       "\n",
       "                            flavor  \\\n",
       "976          grape, pepper, orange   \n",
       "1744                          pine   \n",
       "157                           none   \n",
       "818   diesel, spicy/herbal, earthy   \n",
       "160                           none   \n",
       "\n",
       "                                            description  \n",
       "976   guptilla is a potent indica-dominant cross bre...  \n",
       "1744  rafael (or raphael) is a sativa-dominant strai...  \n",
       "157   bcn diesel by kannabia seed company is a punge...  \n",
       "818   frosty jesus is a clone-only strain from rebel...  \n",
       "160   bad azz kush by barney’s farm was created with...  "
      ]
     },
     "execution_count": 36,
     "metadata": {},
     "output_type": "execute_result"
    }
   ],
   "source": [
    "df.head()"
   ]
  },
  {
   "cell_type": "code",
   "execution_count": null,
   "metadata": {},
   "outputs": [],
   "source": []
  }
 ],
 "metadata": {
  "kernelspec": {
   "display_name": "Python 3",
   "language": "python",
   "name": "python3"
  },
  "language_info": {
   "codemirror_mode": {
    "name": "ipython",
    "version": 3
   },
   "file_extension": ".py",
   "mimetype": "text/x-python",
   "name": "python",
   "nbconvert_exporter": "python",
   "pygments_lexer": "ipython3",
   "version": "3.7.6"
  }
 },
 "nbformat": 4,
 "nbformat_minor": 4
}
