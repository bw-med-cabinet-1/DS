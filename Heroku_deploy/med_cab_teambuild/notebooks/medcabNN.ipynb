{
  "nbformat": 4,
  "nbformat_minor": 0,
  "metadata": {
    "colab": {
      "name": "medcabNN",
      "provenance": [],
      "collapsed_sections": []
    },
    "kernelspec": {
      "name": "python3",
      "display_name": "Python 3"
    }
  },
  "cells": [
    {
      "cell_type": "code",
      "metadata": {
        "id": "AdgzwphmrRBW",
        "colab_type": "code",
        "colab": {}
      },
      "source": [
        "import pandas as pd\n"
      ],
      "execution_count": 2,
      "outputs": []
    },
    {
      "cell_type": "code",
      "metadata": {
        "id": "Y0jfCSld0aYW",
        "colab_type": "code",
        "colab": {}
      },
      "source": [
        "# CLEANING STEPS >>>> MAKE FUNCTION! [done]\n",
        "def clean_csv(csv_url):\n",
        "  df = pd.read_csv(csv_url)\n",
        "  # typos\n",
        "  df.Effects = df.Effects.str.replace('Uplifted,Happy,Energentic\\n', 'Uplifted,Happy,Energetic\\n')\n",
        "  df.Effects = df.Effects.str.replace('Dry,Mouth', '') # an outlier, only occurs once\n",
        "  df.Effects = df.Effects.str.replace('None', '') # replace None with ''\n",
        "  df.Flavor = df.Flavor.str.replace('/', ',') # handling inconsistent separators\n",
        "  df['Description'] = df['Description'].str.replace('\\xa0','') # this is a weird thing, doesn't seem relevant, let's drop it\n",
        "\n",
        "  # change columns ['Effects', 'Flavor'] dtype from strings to lists of strings\n",
        "  df['Effects'] = df['Effects'].str.split(',')\n",
        "  df['Flavor'] = df['Flavor'].str.split(',')\n",
        "\n",
        "  # creating unique IDs\n",
        "  #df = df.reset_index()\n",
        "  return df"
      ],
      "execution_count": 73,
      "outputs": []
    },
    {
      "cell_type": "code",
      "metadata": {
        "id": "9Zid8w2qB2T1",
        "colab_type": "code",
        "colab": {
          "base_uri": "https://localhost:8080/",
          "height": 197
        },
        "outputId": "9d35dac0-33bf-4c1a-bc3a-27087d799c59"
      },
      "source": [
        "df = clean_csv('https://raw.githubusercontent.com/bw-med-cabinet-1/DS/master/data/Cannabis_Strains_Features.csv')\n",
        "df.head()"
      ],
      "execution_count": 74,
      "outputs": [
        {
          "output_type": "execute_result",
          "data": {
            "text/html": [
              "<div>\n",
              "<style scoped>\n",
              "    .dataframe tbody tr th:only-of-type {\n",
              "        vertical-align: middle;\n",
              "    }\n",
              "\n",
              "    .dataframe tbody tr th {\n",
              "        vertical-align: top;\n",
              "    }\n",
              "\n",
              "    .dataframe thead th {\n",
              "        text-align: right;\n",
              "    }\n",
              "</style>\n",
              "<table border=\"1\" class=\"dataframe\">\n",
              "  <thead>\n",
              "    <tr style=\"text-align: right;\">\n",
              "      <th></th>\n",
              "      <th>Strain</th>\n",
              "      <th>Type</th>\n",
              "      <th>Rating</th>\n",
              "      <th>Effects</th>\n",
              "      <th>Flavor</th>\n",
              "      <th>Description</th>\n",
              "    </tr>\n",
              "  </thead>\n",
              "  <tbody>\n",
              "    <tr>\n",
              "      <th>0</th>\n",
              "      <td>100-Og</td>\n",
              "      <td>hybrid</td>\n",
              "      <td>4.0</td>\n",
              "      <td>[Creative, Energetic, Tingly, Euphoric, Relaxed]</td>\n",
              "      <td>[Earthy, Sweet, Citrus]</td>\n",
              "      <td>$100 OG is a 50/50 hybrid strain that packs a ...</td>\n",
              "    </tr>\n",
              "    <tr>\n",
              "      <th>1</th>\n",
              "      <td>98-White-Widow</td>\n",
              "      <td>hybrid</td>\n",
              "      <td>4.7</td>\n",
              "      <td>[Relaxed, Aroused, Creative, Happy, Energetic]</td>\n",
              "      <td>[Flowery, Violet, Diesel]</td>\n",
              "      <td>The ‘98 Aloha White Widow is an especially pot...</td>\n",
              "    </tr>\n",
              "    <tr>\n",
              "      <th>2</th>\n",
              "      <td>1024</td>\n",
              "      <td>sativa</td>\n",
              "      <td>4.4</td>\n",
              "      <td>[Uplifted, Happy, Relaxed, Energetic, Creative]</td>\n",
              "      <td>[Spicy, Herbal, Sage, Woody]</td>\n",
              "      <td>1024 is a sativa-dominant hybrid bred in Spain...</td>\n",
              "    </tr>\n",
              "    <tr>\n",
              "      <th>3</th>\n",
              "      <td>13-Dawgs</td>\n",
              "      <td>hybrid</td>\n",
              "      <td>4.2</td>\n",
              "      <td>[Tingly, Creative, Hungry, Relaxed, Uplifted]</td>\n",
              "      <td>[Apricot, Citrus, Grapefruit]</td>\n",
              "      <td>13 Dawgs is a hybrid of G13 and Chemdawg genet...</td>\n",
              "    </tr>\n",
              "    <tr>\n",
              "      <th>4</th>\n",
              "      <td>24K-Gold</td>\n",
              "      <td>hybrid</td>\n",
              "      <td>4.6</td>\n",
              "      <td>[Happy, Relaxed, Euphoric, Uplifted, Talkative]</td>\n",
              "      <td>[Citrus, Earthy, Orange]</td>\n",
              "      <td>Also known as Kosher Tangie, 24k Gold is a 60%...</td>\n",
              "    </tr>\n",
              "  </tbody>\n",
              "</table>\n",
              "</div>"
            ],
            "text/plain": [
              "           Strain  ...                                        Description\n",
              "0          100-Og  ...  $100 OG is a 50/50 hybrid strain that packs a ...\n",
              "1  98-White-Widow  ...  The ‘98 Aloha White Widow is an especially pot...\n",
              "2            1024  ...  1024 is a sativa-dominant hybrid bred in Spain...\n",
              "3        13-Dawgs  ...  13 Dawgs is a hybrid of G13 and Chemdawg genet...\n",
              "4        24K-Gold  ...  Also known as Kosher Tangie, 24k Gold is a 60%...\n",
              "\n",
              "[5 rows x 6 columns]"
            ]
          },
          "metadata": {
            "tags": []
          },
          "execution_count": 74
        }
      ]
    },
    {
      "cell_type": "code",
      "metadata": {
        "id": "45QZcH8f0g3v",
        "colab_type": "code",
        "colab": {}
      },
      "source": [
        "# TODO: \n",
        "# create individual features from effects lists -- nvm just encode later before model\n",
        "# useful features: effects, type \n",
        "# could do NLP on description and encode\n",
        "#   top-used terms that seem most predictive\n",
        "\n",
        "# "
      ],
      "execution_count": 6,
      "outputs": []
    },
    {
      "cell_type": "code",
      "metadata": {
        "id": "IaaeQH5y0qAE",
        "colab_type": "code",
        "colab": {}
      },
      "source": [
        "# creates corpus of unique effects to encode as features later\n",
        "Effects_corpus = set()\n",
        "frequency_dictionary = []\n",
        "for ix, row in df.iterrows():\n",
        "  if len(row.Effects) > 0:\n",
        "    for effect in row.Effects:\n",
        "      if effect:\n",
        "        Effects_corpus.add(effect.strip())\n",
        "        frequency_dictionary.append(effect.strip())\n",
        "\n",
        "# seems clean enough - has a lot of interesting domain-specific terms\n",
        "# maybe some of them could be useful for prediction\n",
        "# here i'll just use the same technique to get a list of unique terms in description\n",
        "#   aside from stopwords/domain redundancy, and obscure or rarely used words, \n",
        "#   the meat in the middle should give some useful features to encode from descr\n",
        "import string, re\n",
        "Descr_corpus = set()\n",
        "Descr_frequency_dictionary = []\n",
        "for ix, row in df.iterrows():\n",
        "  Descr_list = re.sub('[\\W_]', ' ', row.Description)\n",
        "  Descr_list = Descr_list.split(' ')\n",
        "  if len(Descr_list) > 0:\n",
        "    for word in Descr_list:\n",
        "      if word: # eliminate empty strings\n",
        "        Descr_corpus.add(word.strip().lower())\n",
        "        Descr_frequency_dictionary.append(word.strip().lower())\n"
      ],
      "execution_count": 75,
      "outputs": []
    },
    {
      "cell_type": "code",
      "metadata": {
        "id": "MmYpeSzH1ujX",
        "colab_type": "code",
        "colab": {
          "base_uri": "https://localhost:8080/",
          "height": 247
        },
        "outputId": "c88fa4a9-8bfb-4924-a1b7-2c42a2e48f0e"
      },
      "source": [
        "Effects_corpus"
      ],
      "execution_count": 8,
      "outputs": [
        {
          "output_type": "execute_result",
          "data": {
            "text/plain": [
              "{'Aroused',\n",
              " 'Creative',\n",
              " 'Energetic',\n",
              " 'Euphoric',\n",
              " 'Focused',\n",
              " 'Giggly',\n",
              " 'Happy',\n",
              " 'Hungry',\n",
              " 'Relaxed',\n",
              " 'Sleepy',\n",
              " 'Talkative',\n",
              " 'Tingly',\n",
              " 'Uplifted'}"
            ]
          },
          "metadata": {
            "tags": []
          },
          "execution_count": 8
        }
      ]
    },
    {
      "cell_type": "code",
      "metadata": {
        "id": "4d0OgW_w4tKY",
        "colab_type": "code",
        "colab": {}
      },
      "source": [
        "freq_dict = pd.Series(frequency_dictionary)"
      ],
      "execution_count": 9,
      "outputs": []
    },
    {
      "cell_type": "code",
      "metadata": {
        "id": "qHUMq6Z2ZhXa",
        "colab_type": "code",
        "colab": {}
      },
      "source": [
        "# Descr_frequency_dictionary = pd.Series(Descr_frequency_dictionary)"
      ],
      "execution_count": 10,
      "outputs": []
    },
    {
      "cell_type": "code",
      "metadata": {
        "id": "U5C5IeR6jJfV",
        "colab_type": "code",
        "colab": {}
      },
      "source": [
        "# sorted = Descr_frequency_dictionary.value_counts()"
      ],
      "execution_count": 11,
      "outputs": []
    },
    {
      "cell_type": "code",
      "metadata": {
        "id": "5dqspkolvxI_",
        "colab_type": "code",
        "colab": {}
      },
      "source": [
        "# can augment the usefulness of these features?\n",
        "# for example, \"happy\" is common feature - indicates it treats depression,\n",
        "# so user can specify \"symptom\" to treat depression and encode happy as 1\n",
        "#\n",
        "# relaxed - treats anxiety\n",
        "# euphoric - treats depression, pain\n",
        "# uplifted - treats depression, fatigue\n",
        "# creative - treats depression\n",
        "# sleepy - treats insomnia, anxiety\n",
        "# energetic - treats fatigue, pain, depression\n",
        "# focused - treats fatigue, depression, brain fog?\n",
        "# hungry - treats loss of appetite, nausea\n",
        "# talkative - treats anxiety?\n",
        "# tingly - i dunno sounds like a side effect not a medical treatment\n",
        "# giggly - treats depression? \n",
        "# aroused \n",
        "# dry mouth - side effect, but an outlier"
      ],
      "execution_count": 12,
      "outputs": []
    },
    {
      "cell_type": "code",
      "metadata": {
        "id": "VSpEi7E8zOsk",
        "colab_type": "code",
        "colab": {}
      },
      "source": [
        "# I want a medication that...\n",
        "\n",
        "# TREATS:\n",
        "# anxiety, depression, pain, fatigue, insomnia, \n",
        "# brain fog, loss of appetite, nausea, low libido\n",
        "\n",
        "# and makes me:\n",
        "# happy, relaxed, euphoric, uplifted, creative, sleepy, \n",
        "# energized, focused, hungry, talkative, tingly, giggly\n",
        "\n",
        "# optionally...\n",
        "# I do NOT want to feel\n",
        "# happy, relaxed, euphoric, uplifted, creative, sleepy, \n",
        "# energized, focused, hungry, talkative, tingly, giggly"
      ],
      "execution_count": 13,
      "outputs": []
    },
    {
      "cell_type": "code",
      "metadata": {
        "id": "RXV8rlQbzrlH",
        "colab_type": "code",
        "colab": {}
      },
      "source": [
        "# OPTIONAL: limit my results to\n",
        "# indica, sativa, hybrid (can choose all or none)\n",
        "# 2 or more stars, 3 or more stars, or 4 or more stars (one of these or none)"
      ],
      "execution_count": 14,
      "outputs": []
    },
    {
      "cell_type": "code",
      "metadata": {
        "id": "y6ojDrlnqWME",
        "colab_type": "code",
        "colab": {}
      },
      "source": [
        "# USEFUL KEYWORDS FOUND IN DESCRIPTION\n",
        "# body, potent, stress, relaxing, cerebral, mind, physical, uplifting, \n",
        "# relaxation, day, cbd, euphoria, anxiety, relief, mood, appetite, mental, \n",
        "# depression, energy, balanced, nausea, creative, insomnia, alien, good, help, \n",
        "# stimulating"
      ],
      "execution_count": 15,
      "outputs": []
    },
    {
      "cell_type": "markdown",
      "metadata": {
        "id": "LzL_4O-5rzhD",
        "colab_type": "text"
      },
      "source": [
        "# OK modeling cells to import to other nb"
      ]
    },
    {
      "cell_type": "code",
      "metadata": {
        "id": "hPjYnqair2ux",
        "colab_type": "code",
        "colab": {}
      },
      "source": [
        "# this cell creates features from some keywords determined by frequency/relevance\n",
        "kw = ['body', 'potent', 'stress', 'relaxing', 'cerebral', 'mind', 'physical', \n",
        "      'uplifting', 'relaxation', 'day', 'cbd', 'euphoria', 'anxiety', 'relief',\n",
        "      'mood', 'appetite', 'mental', 'depression', 'energy', 'balanced', \n",
        "      'nausea', 'creative', 'insomnia', 'alien', 'good', 'help', 'stimulating']\n",
        "# these lines create one hot for every keyword\n",
        "for keyword in kw:\n",
        "  df[keyword]=df.Description.str.contains(keyword)"
      ],
      "execution_count": 76,
      "outputs": []
    },
    {
      "cell_type": "code",
      "metadata": {
        "id": "xGOcjwhnMnnX",
        "colab_type": "code",
        "colab": {}
      },
      "source": [
        "df['anxiety'] = df.Effects.str.join(' ').str.contains('Relaxed'or'Sleepy' or'Talkative')\n",
        "df['depression'] = df.Effects.str.join(' ').str.contains('euphoric'or'uplifted'or'creative'or\n",
        "                                           'energetic'or'focused'or'giggly')\n",
        "df['pain'] = df.Effects.str.join(' ').str.contains('euphoric'or'energetic')\n",
        "df['fatigue'] = df.Effects.str.join(' ').str.contains('uplifted'or'energetic'or'focused')\n",
        "df['insomnia'] = df.Effects.str.join(' ').str.contains('sleepy')\n",
        "df['brain fog'] = df.Effects.str.join(' ').str.contains('focused'or'creative')\n",
        "df['loss of appetite'] = df.Effects.str.join(' ').str.contains('hungry')\n",
        "df['nausea'] = df.Effects.str.join(' ').str.contains('hungry')\n",
        "df['low libido'] = df.Effects.str.join(' ').str.contains('aroused')"
      ],
      "execution_count": 77,
      "outputs": []
    },
    {
      "cell_type": "code",
      "metadata": {
        "id": "O6AvC0VIC9uG",
        "colab_type": "code",
        "colab": {
          "base_uri": "https://localhost:8080/",
          "height": 70
        },
        "outputId": "fa2c24c9-4b31-47ff-a66b-015d879be7d4"
      },
      "source": [
        "df.anxiety.value_counts()"
      ],
      "execution_count": 78,
      "outputs": [
        {
          "output_type": "execute_result",
          "data": {
            "text/plain": [
              "True     1760\n",
              "False     591\n",
              "Name: anxiety, dtype: int64"
            ]
          },
          "metadata": {
            "tags": []
          },
          "execution_count": 78
        }
      ]
    },
    {
      "cell_type": "code",
      "metadata": {
        "id": "7dvPv4Yw7_ug",
        "colab_type": "code",
        "colab": {}
      },
      "source": [
        "unique_types = df.Type.unique()\n",
        "for straintype in unique_types:\n",
        "  df[straintype]=df.Type.str.contains(straintype)"
      ],
      "execution_count": 79,
      "outputs": []
    },
    {
      "cell_type": "code",
      "metadata": {
        "id": "5g2UoROJtpnL",
        "colab_type": "code",
        "colab": {}
      },
      "source": [
        "# cell creates one hot for every effect\n",
        "for effect in Effects_corpus:\n",
        "  for ix, row in df.iterrows():\n",
        "    df[effect] = effect in row.Effects"
      ],
      "execution_count": 80,
      "outputs": []
    },
    {
      "cell_type": "code",
      "metadata": {
        "id": "kmAuGjn9v92k",
        "colab_type": "code",
        "colab": {
          "base_uri": "https://localhost:8080/",
          "height": 994
        },
        "outputId": "c1945f55-3f56-4916-cc10-60e53560fe71"
      },
      "source": [
        "# creates list of possible flavors\n",
        "Flavor_corpus = set()\n",
        "for ix, strain in df.iterrows():\n",
        "  if len(strain.Flavor) > 0:\n",
        "    for flavor in strain.Flavor:\n",
        "      if flavor and flavor != \"None\":\n",
        "        Flavor_corpus.add(flavor.strip())\n",
        "Flavor_corpus"
      ],
      "execution_count": 81,
      "outputs": [
        {
          "output_type": "execute_result",
          "data": {
            "text/plain": [
              "{'Ammonia',\n",
              " 'Apple',\n",
              " 'Apricot',\n",
              " 'Berry',\n",
              " 'Bluberry',\n",
              " 'Blue',\n",
              " 'Blueberry',\n",
              " 'Bubblegum',\n",
              " 'Butter',\n",
              " 'Cheese',\n",
              " 'Chemical',\n",
              " 'Chestnut',\n",
              " 'Citrus',\n",
              " 'Coffee',\n",
              " 'Diesel',\n",
              " 'Earthy',\n",
              " 'Flowery',\n",
              " 'Fruit',\n",
              " 'Fruity',\n",
              " 'Grape',\n",
              " 'Grapefruit',\n",
              " 'Grapes',\n",
              " 'Herbal',\n",
              " 'Honey',\n",
              " 'Lavender',\n",
              " 'Lemon',\n",
              " 'Lime',\n",
              " 'Mango',\n",
              " 'Menthol',\n",
              " 'Mint',\n",
              " 'Minty',\n",
              " 'Nutty',\n",
              " 'Orange',\n",
              " 'Peach',\n",
              " 'Pear',\n",
              " 'Pepper',\n",
              " 'Pine',\n",
              " 'Pineapple',\n",
              " 'Plum',\n",
              " 'Pungent',\n",
              " 'Rose',\n",
              " 'Sage',\n",
              " 'Skunk',\n",
              " 'Spicy',\n",
              " 'Strawberry',\n",
              " 'Sweet',\n",
              " 'Tar',\n",
              " 'Tea',\n",
              " 'Tobacco',\n",
              " 'Tree',\n",
              " 'Tree Fruit',\n",
              " 'Tropical',\n",
              " 'Vanilla',\n",
              " 'Violet',\n",
              " 'Woody'}"
            ]
          },
          "metadata": {
            "tags": []
          },
          "execution_count": 81
        }
      ]
    },
    {
      "cell_type": "code",
      "metadata": {
        "id": "1yfAvkORwecV",
        "colab_type": "code",
        "colab": {}
      },
      "source": [
        "# cell adds one hot for every flavor\n",
        "for flavor in Flavor_corpus:\n",
        "  for ix, row in df.iterrows():\n",
        "    df[flavor] = flavor in row.Flavor\n"
      ],
      "execution_count": 82,
      "outputs": []
    },
    {
      "cell_type": "code",
      "metadata": {
        "id": "CEDF5i31tqPn",
        "colab_type": "code",
        "colab": {
          "base_uri": "https://localhost:8080/",
          "height": 70
        },
        "outputId": "3167fe24-c103-4c1f-d521-ea5921e22aa9"
      },
      "source": [
        "df.anxiety.value_counts()"
      ],
      "execution_count": 83,
      "outputs": [
        {
          "output_type": "execute_result",
          "data": {
            "text/plain": [
              "True     1760\n",
              "False     591\n",
              "Name: anxiety, dtype: int64"
            ]
          },
          "metadata": {
            "tags": []
          },
          "execution_count": 83
        }
      ]
    },
    {
      "cell_type": "code",
      "metadata": {
        "id": "BMcABlrPJeIL",
        "colab_type": "code",
        "colab": {}
      },
      "source": [
        "df.replace(False, 0, inplace=True)"
      ],
      "execution_count": 135,
      "outputs": []
    },
    {
      "cell_type": "code",
      "metadata": {
        "id": "a106sAKkKFUH",
        "colab_type": "code",
        "colab": {
          "base_uri": "https://localhost:8080/",
          "height": 596
        },
        "outputId": "3758a6c9-7abe-43ce-e0fb-93a81f30487e"
      },
      "source": [
        "df.head()"
      ],
      "execution_count": 136,
      "outputs": [
        {
          "output_type": "execute_result",
          "data": {
            "text/html": [
              "<div>\n",
              "<style scoped>\n",
              "    .dataframe tbody tr th:only-of-type {\n",
              "        vertical-align: middle;\n",
              "    }\n",
              "\n",
              "    .dataframe tbody tr th {\n",
              "        vertical-align: top;\n",
              "    }\n",
              "\n",
              "    .dataframe thead th {\n",
              "        text-align: right;\n",
              "    }\n",
              "</style>\n",
              "<table border=\"1\" class=\"dataframe\">\n",
              "  <thead>\n",
              "    <tr style=\"text-align: right;\">\n",
              "      <th></th>\n",
              "      <th>Strain</th>\n",
              "      <th>Type</th>\n",
              "      <th>Rating</th>\n",
              "      <th>Effects</th>\n",
              "      <th>Flavor</th>\n",
              "      <th>Description</th>\n",
              "      <th>body</th>\n",
              "      <th>potent</th>\n",
              "      <th>stress</th>\n",
              "      <th>relaxing</th>\n",
              "      <th>cerebral</th>\n",
              "      <th>mind</th>\n",
              "      <th>physical</th>\n",
              "      <th>uplifting</th>\n",
              "      <th>relaxation</th>\n",
              "      <th>day</th>\n",
              "      <th>cbd</th>\n",
              "      <th>euphoria</th>\n",
              "      <th>anxiety</th>\n",
              "      <th>relief</th>\n",
              "      <th>mood</th>\n",
              "      <th>appetite</th>\n",
              "      <th>mental</th>\n",
              "      <th>depression</th>\n",
              "      <th>energy</th>\n",
              "      <th>balanced</th>\n",
              "      <th>nausea</th>\n",
              "      <th>creative</th>\n",
              "      <th>insomnia</th>\n",
              "      <th>alien</th>\n",
              "      <th>good</th>\n",
              "      <th>help</th>\n",
              "      <th>stimulating</th>\n",
              "      <th>pain</th>\n",
              "      <th>fatigue</th>\n",
              "      <th>brain fog</th>\n",
              "      <th>loss of appetite</th>\n",
              "      <th>low libido</th>\n",
              "      <th>hybrid</th>\n",
              "      <th>sativa</th>\n",
              "      <th>...</th>\n",
              "      <th>Pepper</th>\n",
              "      <th>Fruit</th>\n",
              "      <th>Apricot</th>\n",
              "      <th>Mango</th>\n",
              "      <th>Tea</th>\n",
              "      <th>Vanilla</th>\n",
              "      <th>Berry</th>\n",
              "      <th>Strawberry</th>\n",
              "      <th>Menthol</th>\n",
              "      <th>Blue</th>\n",
              "      <th>Honey</th>\n",
              "      <th>Blueberry</th>\n",
              "      <th>Minty</th>\n",
              "      <th>Pine</th>\n",
              "      <th>Lavender</th>\n",
              "      <th>Flowery</th>\n",
              "      <th>Orange</th>\n",
              "      <th>Nutty</th>\n",
              "      <th>Grapes</th>\n",
              "      <th>Woody</th>\n",
              "      <th>Tropical</th>\n",
              "      <th>Peach</th>\n",
              "      <th>Grape</th>\n",
              "      <th>Diesel</th>\n",
              "      <th>Spicy</th>\n",
              "      <th>Mint</th>\n",
              "      <th>Sweet</th>\n",
              "      <th>Coffee</th>\n",
              "      <th>Chemical</th>\n",
              "      <th>Cheese</th>\n",
              "      <th>Tar</th>\n",
              "      <th>Ammonia</th>\n",
              "      <th>Bubblegum</th>\n",
              "      <th>Pineapple</th>\n",
              "      <th>Lemon</th>\n",
              "      <th>Plum</th>\n",
              "      <th>Earthy</th>\n",
              "      <th>Violet</th>\n",
              "      <th>Pungent</th>\n",
              "      <th>Lime</th>\n",
              "    </tr>\n",
              "  </thead>\n",
              "  <tbody>\n",
              "    <tr>\n",
              "      <th>0</th>\n",
              "      <td>100-Og</td>\n",
              "      <td>hybrid</td>\n",
              "      <td>4.0</td>\n",
              "      <td>[Creative, Energetic, Tingly, Euphoric, Relaxed]</td>\n",
              "      <td>[Earthy, Sweet, Citrus]</td>\n",
              "      <td>$100 OG is a 50/50 hybrid strain that packs a ...</td>\n",
              "      <td>1.0</td>\n",
              "      <td>0.0</td>\n",
              "      <td>0.0</td>\n",
              "      <td>0.0</td>\n",
              "      <td>1.0</td>\n",
              "      <td>0.0</td>\n",
              "      <td>0.0</td>\n",
              "      <td>0.0</td>\n",
              "      <td>0.0</td>\n",
              "      <td>0.0</td>\n",
              "      <td>0.0</td>\n",
              "      <td>0.0</td>\n",
              "      <td>1.0</td>\n",
              "      <td>1.0</td>\n",
              "      <td>0.0</td>\n",
              "      <td>0.0</td>\n",
              "      <td>0.0</td>\n",
              "      <td>0.0</td>\n",
              "      <td>0.0</td>\n",
              "      <td>0.0</td>\n",
              "      <td>0.0</td>\n",
              "      <td>0.0</td>\n",
              "      <td>0.0</td>\n",
              "      <td>0.0</td>\n",
              "      <td>0.0</td>\n",
              "      <td>0.0</td>\n",
              "      <td>0.0</td>\n",
              "      <td>0.0</td>\n",
              "      <td>0.0</td>\n",
              "      <td>0.0</td>\n",
              "      <td>0.0</td>\n",
              "      <td>0.0</td>\n",
              "      <td>1.0</td>\n",
              "      <td>0.0</td>\n",
              "      <td>...</td>\n",
              "      <td>0.0</td>\n",
              "      <td>0.0</td>\n",
              "      <td>0.0</td>\n",
              "      <td>0.0</td>\n",
              "      <td>0.0</td>\n",
              "      <td>0.0</td>\n",
              "      <td>True</td>\n",
              "      <td>0.0</td>\n",
              "      <td>0.0</td>\n",
              "      <td>0.0</td>\n",
              "      <td>0.0</td>\n",
              "      <td>0.0</td>\n",
              "      <td>0.0</td>\n",
              "      <td>0.0</td>\n",
              "      <td>0.0</td>\n",
              "      <td>0.0</td>\n",
              "      <td>0.0</td>\n",
              "      <td>0.0</td>\n",
              "      <td>0.0</td>\n",
              "      <td>0.0</td>\n",
              "      <td>0.0</td>\n",
              "      <td>0.0</td>\n",
              "      <td>0.0</td>\n",
              "      <td>0.0</td>\n",
              "      <td>0.0</td>\n",
              "      <td>0.0</td>\n",
              "      <td>0.0</td>\n",
              "      <td>0.0</td>\n",
              "      <td>0.0</td>\n",
              "      <td>0.0</td>\n",
              "      <td>0.0</td>\n",
              "      <td>0.0</td>\n",
              "      <td>0.0</td>\n",
              "      <td>0.0</td>\n",
              "      <td>0.0</td>\n",
              "      <td>0.0</td>\n",
              "      <td>True</td>\n",
              "      <td>0.0</td>\n",
              "      <td>True</td>\n",
              "      <td>0.0</td>\n",
              "    </tr>\n",
              "    <tr>\n",
              "      <th>1</th>\n",
              "      <td>98-White-Widow</td>\n",
              "      <td>hybrid</td>\n",
              "      <td>4.7</td>\n",
              "      <td>[Relaxed, Aroused, Creative, Happy, Energetic]</td>\n",
              "      <td>[Flowery, Violet, Diesel]</td>\n",
              "      <td>The ‘98 Aloha White Widow is an especially pot...</td>\n",
              "      <td>1.0</td>\n",
              "      <td>1.0</td>\n",
              "      <td>0.0</td>\n",
              "      <td>0.0</td>\n",
              "      <td>0.0</td>\n",
              "      <td>1.0</td>\n",
              "      <td>0.0</td>\n",
              "      <td>0.0</td>\n",
              "      <td>1.0</td>\n",
              "      <td>0.0</td>\n",
              "      <td>0.0</td>\n",
              "      <td>1.0</td>\n",
              "      <td>1.0</td>\n",
              "      <td>0.0</td>\n",
              "      <td>0.0</td>\n",
              "      <td>0.0</td>\n",
              "      <td>0.0</td>\n",
              "      <td>0.0</td>\n",
              "      <td>0.0</td>\n",
              "      <td>0.0</td>\n",
              "      <td>0.0</td>\n",
              "      <td>0.0</td>\n",
              "      <td>0.0</td>\n",
              "      <td>0.0</td>\n",
              "      <td>0.0</td>\n",
              "      <td>0.0</td>\n",
              "      <td>0.0</td>\n",
              "      <td>0.0</td>\n",
              "      <td>0.0</td>\n",
              "      <td>0.0</td>\n",
              "      <td>0.0</td>\n",
              "      <td>0.0</td>\n",
              "      <td>1.0</td>\n",
              "      <td>0.0</td>\n",
              "      <td>...</td>\n",
              "      <td>0.0</td>\n",
              "      <td>0.0</td>\n",
              "      <td>0.0</td>\n",
              "      <td>0.0</td>\n",
              "      <td>0.0</td>\n",
              "      <td>0.0</td>\n",
              "      <td>True</td>\n",
              "      <td>0.0</td>\n",
              "      <td>0.0</td>\n",
              "      <td>0.0</td>\n",
              "      <td>0.0</td>\n",
              "      <td>0.0</td>\n",
              "      <td>0.0</td>\n",
              "      <td>0.0</td>\n",
              "      <td>0.0</td>\n",
              "      <td>0.0</td>\n",
              "      <td>0.0</td>\n",
              "      <td>0.0</td>\n",
              "      <td>0.0</td>\n",
              "      <td>0.0</td>\n",
              "      <td>0.0</td>\n",
              "      <td>0.0</td>\n",
              "      <td>0.0</td>\n",
              "      <td>0.0</td>\n",
              "      <td>0.0</td>\n",
              "      <td>0.0</td>\n",
              "      <td>0.0</td>\n",
              "      <td>0.0</td>\n",
              "      <td>0.0</td>\n",
              "      <td>0.0</td>\n",
              "      <td>0.0</td>\n",
              "      <td>0.0</td>\n",
              "      <td>0.0</td>\n",
              "      <td>0.0</td>\n",
              "      <td>0.0</td>\n",
              "      <td>0.0</td>\n",
              "      <td>True</td>\n",
              "      <td>0.0</td>\n",
              "      <td>True</td>\n",
              "      <td>0.0</td>\n",
              "    </tr>\n",
              "    <tr>\n",
              "      <th>2</th>\n",
              "      <td>1024</td>\n",
              "      <td>sativa</td>\n",
              "      <td>4.4</td>\n",
              "      <td>[Uplifted, Happy, Relaxed, Energetic, Creative]</td>\n",
              "      <td>[Spicy, Herbal, Sage, Woody]</td>\n",
              "      <td>1024 is a sativa-dominant hybrid bred in Spain...</td>\n",
              "      <td>0.0</td>\n",
              "      <td>0.0</td>\n",
              "      <td>0.0</td>\n",
              "      <td>0.0</td>\n",
              "      <td>0.0</td>\n",
              "      <td>0.0</td>\n",
              "      <td>0.0</td>\n",
              "      <td>1.0</td>\n",
              "      <td>0.0</td>\n",
              "      <td>0.0</td>\n",
              "      <td>0.0</td>\n",
              "      <td>0.0</td>\n",
              "      <td>1.0</td>\n",
              "      <td>0.0</td>\n",
              "      <td>0.0</td>\n",
              "      <td>0.0</td>\n",
              "      <td>0.0</td>\n",
              "      <td>0.0</td>\n",
              "      <td>0.0</td>\n",
              "      <td>0.0</td>\n",
              "      <td>0.0</td>\n",
              "      <td>0.0</td>\n",
              "      <td>0.0</td>\n",
              "      <td>0.0</td>\n",
              "      <td>0.0</td>\n",
              "      <td>0.0</td>\n",
              "      <td>0.0</td>\n",
              "      <td>0.0</td>\n",
              "      <td>0.0</td>\n",
              "      <td>0.0</td>\n",
              "      <td>0.0</td>\n",
              "      <td>0.0</td>\n",
              "      <td>0.0</td>\n",
              "      <td>1.0</td>\n",
              "      <td>...</td>\n",
              "      <td>0.0</td>\n",
              "      <td>0.0</td>\n",
              "      <td>0.0</td>\n",
              "      <td>0.0</td>\n",
              "      <td>0.0</td>\n",
              "      <td>0.0</td>\n",
              "      <td>True</td>\n",
              "      <td>0.0</td>\n",
              "      <td>0.0</td>\n",
              "      <td>0.0</td>\n",
              "      <td>0.0</td>\n",
              "      <td>0.0</td>\n",
              "      <td>0.0</td>\n",
              "      <td>0.0</td>\n",
              "      <td>0.0</td>\n",
              "      <td>0.0</td>\n",
              "      <td>0.0</td>\n",
              "      <td>0.0</td>\n",
              "      <td>0.0</td>\n",
              "      <td>0.0</td>\n",
              "      <td>0.0</td>\n",
              "      <td>0.0</td>\n",
              "      <td>0.0</td>\n",
              "      <td>0.0</td>\n",
              "      <td>0.0</td>\n",
              "      <td>0.0</td>\n",
              "      <td>0.0</td>\n",
              "      <td>0.0</td>\n",
              "      <td>0.0</td>\n",
              "      <td>0.0</td>\n",
              "      <td>0.0</td>\n",
              "      <td>0.0</td>\n",
              "      <td>0.0</td>\n",
              "      <td>0.0</td>\n",
              "      <td>0.0</td>\n",
              "      <td>0.0</td>\n",
              "      <td>True</td>\n",
              "      <td>0.0</td>\n",
              "      <td>True</td>\n",
              "      <td>0.0</td>\n",
              "    </tr>\n",
              "    <tr>\n",
              "      <th>3</th>\n",
              "      <td>13-Dawgs</td>\n",
              "      <td>hybrid</td>\n",
              "      <td>4.2</td>\n",
              "      <td>[Tingly, Creative, Hungry, Relaxed, Uplifted]</td>\n",
              "      <td>[Apricot, Citrus, Grapefruit]</td>\n",
              "      <td>13 Dawgs is a hybrid of G13 and Chemdawg genet...</td>\n",
              "      <td>1.0</td>\n",
              "      <td>1.0</td>\n",
              "      <td>0.0</td>\n",
              "      <td>0.0</td>\n",
              "      <td>0.0</td>\n",
              "      <td>1.0</td>\n",
              "      <td>0.0</td>\n",
              "      <td>0.0</td>\n",
              "      <td>0.0</td>\n",
              "      <td>0.0</td>\n",
              "      <td>0.0</td>\n",
              "      <td>0.0</td>\n",
              "      <td>1.0</td>\n",
              "      <td>0.0</td>\n",
              "      <td>0.0</td>\n",
              "      <td>1.0</td>\n",
              "      <td>0.0</td>\n",
              "      <td>0.0</td>\n",
              "      <td>0.0</td>\n",
              "      <td>0.0</td>\n",
              "      <td>0.0</td>\n",
              "      <td>1.0</td>\n",
              "      <td>0.0</td>\n",
              "      <td>0.0</td>\n",
              "      <td>0.0</td>\n",
              "      <td>0.0</td>\n",
              "      <td>0.0</td>\n",
              "      <td>0.0</td>\n",
              "      <td>0.0</td>\n",
              "      <td>0.0</td>\n",
              "      <td>0.0</td>\n",
              "      <td>0.0</td>\n",
              "      <td>1.0</td>\n",
              "      <td>0.0</td>\n",
              "      <td>...</td>\n",
              "      <td>0.0</td>\n",
              "      <td>0.0</td>\n",
              "      <td>0.0</td>\n",
              "      <td>0.0</td>\n",
              "      <td>0.0</td>\n",
              "      <td>0.0</td>\n",
              "      <td>True</td>\n",
              "      <td>0.0</td>\n",
              "      <td>0.0</td>\n",
              "      <td>0.0</td>\n",
              "      <td>0.0</td>\n",
              "      <td>0.0</td>\n",
              "      <td>0.0</td>\n",
              "      <td>0.0</td>\n",
              "      <td>0.0</td>\n",
              "      <td>0.0</td>\n",
              "      <td>0.0</td>\n",
              "      <td>0.0</td>\n",
              "      <td>0.0</td>\n",
              "      <td>0.0</td>\n",
              "      <td>0.0</td>\n",
              "      <td>0.0</td>\n",
              "      <td>0.0</td>\n",
              "      <td>0.0</td>\n",
              "      <td>0.0</td>\n",
              "      <td>0.0</td>\n",
              "      <td>0.0</td>\n",
              "      <td>0.0</td>\n",
              "      <td>0.0</td>\n",
              "      <td>0.0</td>\n",
              "      <td>0.0</td>\n",
              "      <td>0.0</td>\n",
              "      <td>0.0</td>\n",
              "      <td>0.0</td>\n",
              "      <td>0.0</td>\n",
              "      <td>0.0</td>\n",
              "      <td>True</td>\n",
              "      <td>0.0</td>\n",
              "      <td>True</td>\n",
              "      <td>0.0</td>\n",
              "    </tr>\n",
              "    <tr>\n",
              "      <th>4</th>\n",
              "      <td>24K-Gold</td>\n",
              "      <td>hybrid</td>\n",
              "      <td>4.6</td>\n",
              "      <td>[Happy, Relaxed, Euphoric, Uplifted, Talkative]</td>\n",
              "      <td>[Citrus, Earthy, Orange]</td>\n",
              "      <td>Also known as Kosher Tangie, 24k Gold is a 60%...</td>\n",
              "      <td>0.0</td>\n",
              "      <td>0.0</td>\n",
              "      <td>0.0</td>\n",
              "      <td>0.0</td>\n",
              "      <td>0.0</td>\n",
              "      <td>0.0</td>\n",
              "      <td>0.0</td>\n",
              "      <td>0.0</td>\n",
              "      <td>0.0</td>\n",
              "      <td>0.0</td>\n",
              "      <td>0.0</td>\n",
              "      <td>0.0</td>\n",
              "      <td>1.0</td>\n",
              "      <td>0.0</td>\n",
              "      <td>0.0</td>\n",
              "      <td>0.0</td>\n",
              "      <td>0.0</td>\n",
              "      <td>0.0</td>\n",
              "      <td>0.0</td>\n",
              "      <td>0.0</td>\n",
              "      <td>0.0</td>\n",
              "      <td>0.0</td>\n",
              "      <td>0.0</td>\n",
              "      <td>0.0</td>\n",
              "      <td>0.0</td>\n",
              "      <td>0.0</td>\n",
              "      <td>0.0</td>\n",
              "      <td>0.0</td>\n",
              "      <td>0.0</td>\n",
              "      <td>0.0</td>\n",
              "      <td>0.0</td>\n",
              "      <td>0.0</td>\n",
              "      <td>1.0</td>\n",
              "      <td>0.0</td>\n",
              "      <td>...</td>\n",
              "      <td>0.0</td>\n",
              "      <td>0.0</td>\n",
              "      <td>0.0</td>\n",
              "      <td>0.0</td>\n",
              "      <td>0.0</td>\n",
              "      <td>0.0</td>\n",
              "      <td>True</td>\n",
              "      <td>0.0</td>\n",
              "      <td>0.0</td>\n",
              "      <td>0.0</td>\n",
              "      <td>0.0</td>\n",
              "      <td>0.0</td>\n",
              "      <td>0.0</td>\n",
              "      <td>0.0</td>\n",
              "      <td>0.0</td>\n",
              "      <td>0.0</td>\n",
              "      <td>0.0</td>\n",
              "      <td>0.0</td>\n",
              "      <td>0.0</td>\n",
              "      <td>0.0</td>\n",
              "      <td>0.0</td>\n",
              "      <td>0.0</td>\n",
              "      <td>0.0</td>\n",
              "      <td>0.0</td>\n",
              "      <td>0.0</td>\n",
              "      <td>0.0</td>\n",
              "      <td>0.0</td>\n",
              "      <td>0.0</td>\n",
              "      <td>0.0</td>\n",
              "      <td>0.0</td>\n",
              "      <td>0.0</td>\n",
              "      <td>0.0</td>\n",
              "      <td>0.0</td>\n",
              "      <td>0.0</td>\n",
              "      <td>0.0</td>\n",
              "      <td>0.0</td>\n",
              "      <td>True</td>\n",
              "      <td>0.0</td>\n",
              "      <td>True</td>\n",
              "      <td>0.0</td>\n",
              "    </tr>\n",
              "  </tbody>\n",
              "</table>\n",
              "<p>5 rows × 109 columns</p>\n",
              "</div>"
            ],
            "text/plain": [
              "           Strain    Type  Rating  ... Violet Pungent Lime\n",
              "0          100-Og  hybrid     4.0  ...    0.0    True  0.0\n",
              "1  98-White-Widow  hybrid     4.7  ...    0.0    True  0.0\n",
              "2            1024  sativa     4.4  ...    0.0    True  0.0\n",
              "3        13-Dawgs  hybrid     4.2  ...    0.0    True  0.0\n",
              "4        24K-Gold  hybrid     4.6  ...    0.0    True  0.0\n",
              "\n",
              "[5 rows x 109 columns]"
            ]
          },
          "metadata": {
            "tags": []
          },
          "execution_count": 136
        }
      ]
    },
    {
      "cell_type": "code",
      "metadata": {
        "id": "LTzi4Tbyvm-N",
        "colab_type": "code",
        "colab": {}
      },
      "source": [
        "# high cardinality/useless for prediction:\n",
        "# [Strain, Rating, Effects, Flavor, Description]\n",
        "# useful:\n",
        "# all one-hot, plus type\n",
        "\n",
        "df_train = df.drop(columns={'Strain', 'Rating', 'Effects', 'Flavor', 'Description', 'Type'})"
      ],
      "execution_count": 137,
      "outputs": []
    },
    {
      "cell_type": "code",
      "metadata": {
        "id": "vZBetVdEw4Pc",
        "colab_type": "code",
        "colab": {
          "base_uri": "https://localhost:8080/",
          "height": 34
        },
        "outputId": "4b4dcd07-5dc0-4852-b858-d2682ba099e6"
      },
      "source": [
        "df_train.shape"
      ],
      "execution_count": 138,
      "outputs": [
        {
          "output_type": "execute_result",
          "data": {
            "text/plain": [
              "(2351, 103)"
            ]
          },
          "metadata": {
            "tags": []
          },
          "execution_count": 138
        }
      ]
    },
    {
      "cell_type": "code",
      "metadata": {
        "id": "Acqfka_Hw5Et",
        "colab_type": "code",
        "colab": {
          "base_uri": "https://localhost:8080/",
          "height": 70
        },
        "outputId": "156d3670-ba4e-41e4-db1c-fc7976d650be"
      },
      "source": [
        "from sklearn.neighbors import NearestNeighbors\n",
        "\n",
        "nn_model = NearestNeighbors(n_neighbors=5)\n",
        "\n",
        "nn_model.fit(df_train)"
      ],
      "execution_count": 139,
      "outputs": [
        {
          "output_type": "execute_result",
          "data": {
            "text/plain": [
              "NearestNeighbors(algorithm='auto', leaf_size=30, metric='minkowski',\n",
              "                 metric_params=None, n_jobs=None, n_neighbors=5, p=2,\n",
              "                 radius=1.0)"
            ]
          },
          "metadata": {
            "tags": []
          },
          "execution_count": 139
        }
      ]
    },
    {
      "cell_type": "code",
      "metadata": {
        "id": "F0KEVL0e8rEe",
        "colab_type": "code",
        "colab": {
          "base_uri": "https://localhost:8080/",
          "height": 34
        },
        "outputId": "f5a852e2-bb18-4f61-b33e-52e315f56a89"
      },
      "source": [
        "example = df_train.iloc[[0]]\n",
        "#example = example.to_dict()\n",
        "example.shape"
      ],
      "execution_count": 140,
      "outputs": [
        {
          "output_type": "execute_result",
          "data": {
            "text/plain": [
              "(1, 103)"
            ]
          },
          "metadata": {
            "tags": []
          },
          "execution_count": 140
        }
      ]
    },
    {
      "cell_type": "code",
      "metadata": {
        "id": "oebzl6ohE69m",
        "colab_type": "code",
        "colab": {}
      },
      "source": [
        "#example.to_json(orient='records')"
      ],
      "execution_count": 141,
      "outputs": []
    },
    {
      "cell_type": "code",
      "metadata": {
        "id": "l7ed1WKrHUFc",
        "colab_type": "code",
        "colab": {
          "base_uri": "https://localhost:8080/",
          "height": 34
        },
        "outputId": "5bc7d834-4adb-4ad3-e0ce-ea0b1dca32e3"
      },
      "source": [
        "nn_model.kneighbors(example)"
      ],
      "execution_count": 142,
      "outputs": [
        {
          "output_type": "execute_result",
          "data": {
            "text/plain": [
              "(array([[0., 0., 1., 1., 1.]]), array([[   0,  213, 1730, 1226, 1248]]))"
            ]
          },
          "metadata": {
            "tags": []
          },
          "execution_count": 142
        }
      ]
    },
    {
      "cell_type": "code",
      "metadata": {
        "id": "eXZF8Id89vL5",
        "colab_type": "code",
        "colab": {
          "base_uri": "https://localhost:8080/",
          "height": 34
        },
        "outputId": "c0de6056-e30c-43c4-9bc1-bb249cbf291d"
      },
      "source": [
        "example_results = nn_model.kneighbors(example)\n",
        "similarity = list(example_results[0][0])\n",
        "idx = list(example_results[1][0])\n",
        "results = dict(zip(idx, similarity))\n",
        "results"
      ],
      "execution_count": 181,
      "outputs": [
        {
          "output_type": "execute_result",
          "data": {
            "text/plain": [
              "{0: 0.0, 213: 0.0, 1226: 1.0, 1248: 1.0, 1730: 1.0}"
            ]
          },
          "metadata": {
            "tags": []
          },
          "execution_count": 181
        }
      ]
    },
    {
      "cell_type": "code",
      "metadata": {
        "id": "jBkwFiI4-aWN",
        "colab_type": "code",
        "colab": {
          "base_uri": "https://localhost:8080/",
          "height": 1000
        },
        "outputId": "1c105ddd-a70b-450d-b986-30e4f1d9f996"
      },
      "source": [
        "recs = [df.iloc[result] for result in example_results]\n",
        "recs"
      ],
      "execution_count": 144,
      "outputs": [
        {
          "output_type": "execute_result",
          "data": {
            "text/plain": [
              "[Strain                                               100-Og\n",
              " Type                                                 hybrid\n",
              " Rating                                                    4\n",
              " Effects    [Creative, Energetic, Tingly, Euphoric, Relaxed]\n",
              " Flavor                              [Earthy, Sweet, Citrus]\n",
              "                                  ...                       \n",
              " Plum                                                      0\n",
              " Earthy                                                 True\n",
              " Violet                                                    0\n",
              " Pungent                                                True\n",
              " Lime                                                      0\n",
              " Name: 0, Length: 109, dtype: object,\n",
              " Strain                                        Bio-Jesus\n",
              " Type                                             hybrid\n",
              " Rating                                              4.6\n",
              " Effects    [Happy, Relaxed, Euphoric, Sleepy, Uplifted]\n",
              " Flavor                       [Earthy, Chemical, Diesel]\n",
              "                                ...                     \n",
              " Plum                                                  0\n",
              " Earthy                                             True\n",
              " Violet                                                0\n",
              " Pungent                                            True\n",
              " Lime                                                  0\n",
              " Name: 213, Length: 109, dtype: object,\n",
              " Strain                                     Purple-Widow\n",
              " Type                                             hybrid\n",
              " Rating                                              4.6\n",
              " Effects    [Relaxed, Euphoric, Hungry, Happy, Creative]\n",
              " Flavor                           [Sweet, Earthy, Woody]\n",
              "                                ...                     \n",
              " Plum                                                  0\n",
              " Earthy                                             True\n",
              " Violet                                                0\n",
              " Pungent                                            True\n",
              " Lime                                                  0\n",
              " Name: 1730, Length: 109, dtype: object,\n",
              " Strain                                                Lsd\n",
              " Type                                               hybrid\n",
              " Rating                                                4.3\n",
              " Effects    [Happy, Relaxed, Euphoric, Uplifted, Creative]\n",
              " Flavor                          [Earthy, Pungent, Citrus]\n",
              "                                 ...                      \n",
              " Plum                                                    0\n",
              " Earthy                                               True\n",
              " Violet                                                  0\n",
              " Pungent                                              True\n",
              " Lime                                                    0\n",
              " Name: 1226, Length: 109, dtype: object,\n",
              " Strain                                  Legalized-Og\n",
              " Type                                          hybrid\n",
              " Rating                                           4.8\n",
              " Effects    [Hungry, Sleepy, Relaxed, Happy, Focused]\n",
              " Flavor            [Pungent, Chemical, Spicy, Herbal]\n",
              "                              ...                    \n",
              " Plum                                               0\n",
              " Earthy                                          True\n",
              " Violet                                             0\n",
              " Pungent                                         True\n",
              " Lime                                               0\n",
              " Name: 1248, Length: 109, dtype: object]"
            ]
          },
          "metadata": {
            "tags": []
          },
          "execution_count": 144
        }
      ]
    },
    {
      "cell_type": "code",
      "metadata": {
        "id": "IQLMTW9w-h6a",
        "colab_type": "code",
        "colab": {
          "base_uri": "https://localhost:8080/",
          "height": 34
        },
        "outputId": "f7ec7834-70c6-4146-ce9c-3bf6609ca4c8"
      },
      "source": [
        "from joblib import dump, load\n",
        "dump(nn_model, 'nn_model.joblib', compress=True)"
      ],
      "execution_count": 145,
      "outputs": [
        {
          "output_type": "execute_result",
          "data": {
            "text/plain": [
              "['nn_model.joblib']"
            ]
          },
          "metadata": {
            "tags": []
          },
          "execution_count": 145
        }
      ]
    },
    {
      "cell_type": "code",
      "metadata": {
        "id": "iPcruOPKFUNr",
        "colab_type": "code",
        "colab": {
          "base_uri": "https://localhost:8080/",
          "height": 34
        },
        "outputId": "ac854bec-b89f-4f97-b08c-31187e69dcfe"
      },
      "source": [
        "!ls -lh nn_model.joblib"
      ],
      "execution_count": 146,
      "outputs": [
        {
          "output_type": "stream",
          "text": [
            "-rw-r--r-- 1 root root 88K Sep 22 23:35 nn_model.joblib\n"
          ],
          "name": "stdout"
        }
      ]
    },
    {
      "cell_type": "code",
      "metadata": {
        "id": "mpssIQL2FePm",
        "colab_type": "code",
        "colab": {
          "base_uri": "https://localhost:8080/",
          "height": 123
        },
        "outputId": "ddf67ae2-fbb2-4314-b71b-c71e6106b548"
      },
      "source": [
        "df_train.columns"
      ],
      "execution_count": 147,
      "outputs": [
        {
          "output_type": "execute_result",
          "data": {
            "text/plain": [
              "Index(['body', 'potent', 'stress', 'relaxing', 'cerebral', 'mind', 'physical',\n",
              "       'uplifting', 'relaxation', 'day',\n",
              "       ...\n",
              "       'Tar', 'Ammonia', 'Bubblegum', 'Pineapple', 'Lemon', 'Plum', 'Earthy',\n",
              "       'Violet', 'Pungent', 'Lime'],\n",
              "      dtype='object', length=103)"
            ]
          },
          "metadata": {
            "tags": []
          },
          "execution_count": 147
        }
      ]
    },
    {
      "cell_type": "code",
      "metadata": {
        "id": "-reIvslsJl0i",
        "colab_type": "code",
        "colab": {
          "base_uri": "https://localhost:8080/",
          "height": 34
        },
        "outputId": "0858b03c-6a98-499b-f270-7654ec65c3d0"
      },
      "source": [
        "unique_types"
      ],
      "execution_count": 148,
      "outputs": [
        {
          "output_type": "execute_result",
          "data": {
            "text/plain": [
              "array(['hybrid', 'sativa', 'indica'], dtype=object)"
            ]
          },
          "metadata": {
            "tags": []
          },
          "execution_count": 148
        }
      ]
    },
    {
      "cell_type": "code",
      "metadata": {
        "id": "0vGeOHRRJ9cH",
        "colab_type": "code",
        "colab": {
          "base_uri": "https://localhost:8080/",
          "height": 247
        },
        "outputId": "ff939161-3e8e-4e18-b908-b17929acdbfa"
      },
      "source": [
        "Effects_corpus"
      ],
      "execution_count": 149,
      "outputs": [
        {
          "output_type": "execute_result",
          "data": {
            "text/plain": [
              "{'Aroused',\n",
              " 'Creative',\n",
              " 'Energetic',\n",
              " 'Euphoric',\n",
              " 'Focused',\n",
              " 'Giggly',\n",
              " 'Happy',\n",
              " 'Hungry',\n",
              " 'Relaxed',\n",
              " 'Sleepy',\n",
              " 'Talkative',\n",
              " 'Tingly',\n",
              " 'Uplifted'}"
            ]
          },
          "metadata": {
            "tags": []
          },
          "execution_count": 149
        }
      ]
    },
    {
      "cell_type": "code",
      "metadata": {
        "id": "nmMFoUoUKCTZ",
        "colab_type": "code",
        "colab": {}
      },
      "source": [
        "conditions = ['anxiety', 'depression', 'pain', 'fatigue', 'insomnia',\n",
        "              'brain fog', 'loss of appetite', 'nausea', 'low libido']"
      ],
      "execution_count": 150,
      "outputs": []
    },
    {
      "cell_type": "code",
      "metadata": {
        "id": "9KUiJ26PK1Zt",
        "colab_type": "code",
        "colab": {
          "base_uri": "https://localhost:8080/",
          "height": 176
        },
        "outputId": "54d41abf-b780-4921-f4ce-dbc9a8e6fe34"
      },
      "source": [
        "conditions"
      ],
      "execution_count": 151,
      "outputs": [
        {
          "output_type": "execute_result",
          "data": {
            "text/plain": [
              "['anxiety',\n",
              " 'depression',\n",
              " 'pain',\n",
              " 'fatigue',\n",
              " 'insomnia',\n",
              " 'brain fog',\n",
              " 'loss of appetite',\n",
              " 'nausea',\n",
              " 'low libido']"
            ]
          },
          "metadata": {
            "tags": []
          },
          "execution_count": 151
        }
      ]
    },
    {
      "cell_type": "code",
      "metadata": {
        "id": "x5mLIabxH5q6",
        "colab_type": "code",
        "colab": {
          "base_uri": "https://localhost:8080/",
          "height": 1000
        },
        "outputId": "a1787af8-7c6c-4355-b5bf-d51ceeb25359"
      },
      "source": [
        "for column in df_train.columns:\n",
        "  print(f'\"{column}\",')"
      ],
      "execution_count": 158,
      "outputs": [
        {
          "output_type": "stream",
          "text": [
            "\"body\",\n",
            "\"potent\",\n",
            "\"stress\",\n",
            "\"relaxing\",\n",
            "\"cerebral\",\n",
            "\"mind\",\n",
            "\"physical\",\n",
            "\"uplifting\",\n",
            "\"relaxation\",\n",
            "\"day\",\n",
            "\"cbd\",\n",
            "\"euphoria\",\n",
            "\"anxiety\",\n",
            "\"relief\",\n",
            "\"mood\",\n",
            "\"appetite\",\n",
            "\"mental\",\n",
            "\"depression\",\n",
            "\"energy\",\n",
            "\"balanced\",\n",
            "\"nausea\",\n",
            "\"creative\",\n",
            "\"insomnia\",\n",
            "\"alien\",\n",
            "\"good\",\n",
            "\"help\",\n",
            "\"stimulating\",\n",
            "\"pain\",\n",
            "\"fatigue\",\n",
            "\"brain fog\",\n",
            "\"loss of appetite\",\n",
            "\"low libido\",\n",
            "\"hybrid\",\n",
            "\"sativa\",\n",
            "\"indica\",\n",
            "\"Focused\",\n",
            "\"Happy\",\n",
            "\"Aroused\",\n",
            "\"Uplifted\",\n",
            "\"Creative\",\n",
            "\"Hungry\",\n",
            "\"Sleepy\",\n",
            "\"Giggly\",\n",
            "\"Relaxed\",\n",
            "\"Tingly\",\n",
            "\"Energetic\",\n",
            "\"Euphoric\",\n",
            "\"Talkative\",\n",
            "\"Grapefruit\",\n",
            "\"Pear\",\n",
            "\"Tree\",\n",
            "\"Tobacco\",\n",
            "\"Apple\",\n",
            "\"Herbal\",\n",
            "\"Citrus\",\n",
            "\"Sage\",\n",
            "\"Butter\",\n",
            "\"Bluberry\",\n",
            "\"Fruity\",\n",
            "\"Tree Fruit\",\n",
            "\"Rose\",\n",
            "\"Chestnut\",\n",
            "\"Skunk\",\n",
            "\"Pepper\",\n",
            "\"Fruit\",\n",
            "\"Apricot\",\n",
            "\"Mango\",\n",
            "\"Tea\",\n",
            "\"Vanilla\",\n",
            "\"Berry\",\n",
            "\"Strawberry\",\n",
            "\"Menthol\",\n",
            "\"Blue\",\n",
            "\"Honey\",\n",
            "\"Blueberry\",\n",
            "\"Minty\",\n",
            "\"Pine\",\n",
            "\"Lavender\",\n",
            "\"Flowery\",\n",
            "\"Orange\",\n",
            "\"Nutty\",\n",
            "\"Grapes\",\n",
            "\"Woody\",\n",
            "\"Tropical\",\n",
            "\"Peach\",\n",
            "\"Grape\",\n",
            "\"Diesel\",\n",
            "\"Spicy\",\n",
            "\"Mint\",\n",
            "\"Sweet\",\n",
            "\"Coffee\",\n",
            "\"Chemical\",\n",
            "\"Cheese\",\n",
            "\"Tar\",\n",
            "\"Ammonia\",\n",
            "\"Bubblegum\",\n",
            "\"Pineapple\",\n",
            "\"Lemon\",\n",
            "\"Plum\",\n",
            "\"Earthy\",\n",
            "\"Violet\",\n",
            "\"Pungent\",\n",
            "\"Lime\",\n"
          ],
          "name": "stdout"
        }
      ]
    },
    {
      "cell_type": "code",
      "metadata": {
        "id": "7gxPWYEnMnG2",
        "colab_type": "code",
        "colab": {}
      },
      "source": [
        ""
      ],
      "execution_count": null,
      "outputs": []
    }
  ]
}
