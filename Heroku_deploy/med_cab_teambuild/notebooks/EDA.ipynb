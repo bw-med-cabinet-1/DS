{
 "cells": [
  {
   "cell_type": "code",
   "execution_count": 1,
   "metadata": {},
   "outputs": [],
   "source": [
    "import pandas as pd\n",
    "import numpy as np\n",
    "import re"
   ]
  },
  {
   "cell_type": "code",
   "execution_count": 2,
   "metadata": {},
   "outputs": [],
   "source": [
    "df = pd.read_csv('./data/Cannabis_Strains_Features_cannabis.csv')"
   ]
  },
  {
   "cell_type": "code",
   "execution_count": 26,
   "metadata": {},
   "outputs": [
    {
     "name": "stdout",
     "output_type": "stream",
     "text": [
      "(2316, 7) \n",
      "\n"
     ]
    },
    {
     "data": {
      "text/html": [
       "<div>\n",
       "<style scoped>\n",
       "    .dataframe tbody tr th:only-of-type {\n",
       "        vertical-align: middle;\n",
       "    }\n",
       "\n",
       "    .dataframe tbody tr th {\n",
       "        vertical-align: top;\n",
       "    }\n",
       "\n",
       "    .dataframe thead th {\n",
       "        text-align: right;\n",
       "    }\n",
       "</style>\n",
       "<table border=\"1\" class=\"dataframe\">\n",
       "  <thead>\n",
       "    <tr style=\"text-align: right;\">\n",
       "      <th></th>\n",
       "      <th>strain_id</th>\n",
       "      <th>strain</th>\n",
       "      <th>type</th>\n",
       "      <th>Rating</th>\n",
       "      <th>effects</th>\n",
       "      <th>description</th>\n",
       "      <th>Flavors</th>\n",
       "    </tr>\n",
       "  </thead>\n",
       "  <tbody>\n",
       "    <tr>\n",
       "      <th>1838</th>\n",
       "      <td>1838</td>\n",
       "      <td>silver nina</td>\n",
       "      <td>hybrid</td>\n",
       "      <td>5.0</td>\n",
       "      <td>creative, energetic, focused, happy, aroused</td>\n",
       "      <td>silver nina by colorado seed inc. is the stabi...</td>\n",
       "      <td>citrus</td>\n",
       "    </tr>\n",
       "    <tr>\n",
       "      <th>1834</th>\n",
       "      <td>1834</td>\n",
       "      <td>silver calyx</td>\n",
       "      <td>hybrid</td>\n",
       "      <td>5.0</td>\n",
       "      <td>aroused, energetic, euphoric, focused, relaxed</td>\n",
       "      <td>silver calyx by calyx garden is a balanced hyb...</td>\n",
       "      <td>lemon, tree, fruit, pine</td>\n",
       "    </tr>\n",
       "    <tr>\n",
       "      <th>1779</th>\n",
       "      <td>1779</td>\n",
       "      <td>royal tree sherbet</td>\n",
       "      <td>hybrid</td>\n",
       "      <td>5.0</td>\n",
       "      <td>relaxed</td>\n",
       "      <td>sherbet by royal tree gardens is another genet...</td>\n",
       "      <td>tropical, sweet, berry</td>\n",
       "    </tr>\n",
       "    <tr>\n",
       "      <th>1804</th>\n",
       "      <td>1804</td>\n",
       "      <td>scouts honor</td>\n",
       "      <td>hybrid</td>\n",
       "      <td>5.0</td>\n",
       "      <td>relaxed, creative, giggly, talkative, uplifted</td>\n",
       "      <td>scout’s honor is an indica-dominant hybrid cre...</td>\n",
       "      <td>sweet, tropical, flowery</td>\n",
       "    </tr>\n",
       "    <tr>\n",
       "      <th>1805</th>\n",
       "      <td>1805</td>\n",
       "      <td>scroopy noopers</td>\n",
       "      <td>hybrid</td>\n",
       "      <td>5.0</td>\n",
       "      <td>euphoric, hungry, relaxed</td>\n",
       "      <td>scroopy noopers by green dream is a modern hom...</td>\n",
       "      <td>pungent, coffee</td>\n",
       "    </tr>\n",
       "    <tr>\n",
       "      <th>262</th>\n",
       "      <td>262</td>\n",
       "      <td>blood orange kush</td>\n",
       "      <td>indica</td>\n",
       "      <td>5.0</td>\n",
       "      <td>sleepy, uplifted, euphoric, happy, creative</td>\n",
       "      <td>blood orange kush is an indica-dominant cross ...</td>\n",
       "      <td>diesel, citrus, orange</td>\n",
       "    </tr>\n",
       "    <tr>\n",
       "      <th>1809</th>\n",
       "      <td>1809</td>\n",
       "      <td>secret garden og</td>\n",
       "      <td>indica</td>\n",
       "      <td>5.0</td>\n",
       "      <td>euphoric, talkative, uplifted, creative, energ...</td>\n",
       "      <td>secret garden og is a colorado seed inc. maste...</td>\n",
       "      <td>flowery, lavender, honey</td>\n",
       "    </tr>\n",
       "    <tr>\n",
       "      <th>258</th>\n",
       "      <td>258</td>\n",
       "      <td>blizzard bush</td>\n",
       "      <td>hybrid</td>\n",
       "      <td>5.0</td>\n",
       "      <td>talkative, uplifted, creative, energetic, euph...</td>\n",
       "      <td>blizzard bush by greenpoint seeds is a resinou...</td>\n",
       "      <td>flowery, earthy, pungent</td>\n",
       "    </tr>\n",
       "    <tr>\n",
       "      <th>997</th>\n",
       "      <td>997</td>\n",
       "      <td>hawaiian trinity</td>\n",
       "      <td>hybrid</td>\n",
       "      <td>5.0</td>\n",
       "      <td>talkative, uplifted, creative, euphoric, focused</td>\n",
       "      <td>hawaiian trinity by pua mana 1st hawaiian paka...</td>\n",
       "      <td>sweet, tropical, flowery</td>\n",
       "    </tr>\n",
       "    <tr>\n",
       "      <th>1835</th>\n",
       "      <td>1835</td>\n",
       "      <td>silver cindy</td>\n",
       "      <td>hybrid</td>\n",
       "      <td>5.0</td>\n",
       "      <td>aroused, uplifted, energetic, euphoric, happy</td>\n",
       "      <td>colorado seed inc. brings speedy effects and e...</td>\n",
       "      <td>none</td>\n",
       "    </tr>\n",
       "  </tbody>\n",
       "</table>\n",
       "</div>"
      ],
      "text/plain": [
       "      strain_id              strain    type  Rating  \\\n",
       "1838       1838         silver nina  hybrid     5.0   \n",
       "1834       1834        silver calyx  hybrid     5.0   \n",
       "1779       1779  royal tree sherbet  hybrid     5.0   \n",
       "1804       1804        scouts honor  hybrid     5.0   \n",
       "1805       1805     scroopy noopers  hybrid     5.0   \n",
       "262         262   blood orange kush  indica     5.0   \n",
       "1809       1809    secret garden og  indica     5.0   \n",
       "258         258       blizzard bush  hybrid     5.0   \n",
       "997         997    hawaiian trinity  hybrid     5.0   \n",
       "1835       1835        silver cindy  hybrid     5.0   \n",
       "\n",
       "                                                effects  \\\n",
       "1838       creative, energetic, focused, happy, aroused   \n",
       "1834     aroused, energetic, euphoric, focused, relaxed   \n",
       "1779                                            relaxed   \n",
       "1804     relaxed, creative, giggly, talkative, uplifted   \n",
       "1805                          euphoric, hungry, relaxed   \n",
       "262         sleepy, uplifted, euphoric, happy, creative   \n",
       "1809  euphoric, talkative, uplifted, creative, energ...   \n",
       "258   talkative, uplifted, creative, energetic, euph...   \n",
       "997    talkative, uplifted, creative, euphoric, focused   \n",
       "1835      aroused, uplifted, energetic, euphoric, happy   \n",
       "\n",
       "                                            description  \\\n",
       "1838  silver nina by colorado seed inc. is the stabi...   \n",
       "1834  silver calyx by calyx garden is a balanced hyb...   \n",
       "1779  sherbet by royal tree gardens is another genet...   \n",
       "1804  scout’s honor is an indica-dominant hybrid cre...   \n",
       "1805  scroopy noopers by green dream is a modern hom...   \n",
       "262   blood orange kush is an indica-dominant cross ...   \n",
       "1809  secret garden og is a colorado seed inc. maste...   \n",
       "258   blizzard bush by greenpoint seeds is a resinou...   \n",
       "997   hawaiian trinity by pua mana 1st hawaiian paka...   \n",
       "1835  colorado seed inc. brings speedy effects and e...   \n",
       "\n",
       "                       Flavors  \n",
       "1838                    citrus  \n",
       "1834  lemon, tree, fruit, pine  \n",
       "1779    tropical, sweet, berry  \n",
       "1804  sweet, tropical, flowery  \n",
       "1805           pungent, coffee  \n",
       "262     diesel, citrus, orange  \n",
       "1809  flowery, lavender, honey  \n",
       "258   flowery, earthy, pungent  \n",
       "997   sweet, tropical, flowery  \n",
       "1835                      none  "
      ]
     },
     "execution_count": 26,
     "metadata": {},
     "output_type": "execute_result"
    }
   ],
   "source": [
    "print(df.shape, '\\n')\n",
    "df.head(10)"
   ]
  },
  {
   "cell_type": "code",
   "execution_count": 4,
   "metadata": {},
   "outputs": [
    {
     "name": "stdout",
     "output_type": "stream",
     "text": [
      "<class 'pandas.core.frame.DataFrame'>\n",
      "RangeIndex: 2351 entries, 0 to 2350\n",
      "Data columns (total 6 columns):\n",
      " #   Column       Non-Null Count  Dtype  \n",
      "---  ------       --------------  -----  \n",
      " 0   Strain       2351 non-null   object \n",
      " 1   Type         2351 non-null   object \n",
      " 2   Rating       2351 non-null   float64\n",
      " 3   Effects      2351 non-null   object \n",
      " 4   Flavor       2350 non-null   object \n",
      " 5   Description  2350 non-null   object \n",
      "dtypes: float64(1), object(5)\n",
      "memory usage: 110.3+ KB\n"
     ]
    }
   ],
   "source": [
    "df.info()"
   ]
  },
  {
   "cell_type": "code",
   "execution_count": 5,
   "metadata": {},
   "outputs": [],
   "source": [
    "nans = df.isnull().sum()"
   ]
  },
  {
   "cell_type": "code",
   "execution_count": 6,
   "metadata": {},
   "outputs": [
    {
     "data": {
      "text/plain": [
       "Strain         0\n",
       "Type           0\n",
       "Rating         0\n",
       "Effects        0\n",
       "Flavor         1\n",
       "Description    1\n",
       "dtype: int64"
      ]
     },
     "execution_count": 6,
     "metadata": {},
     "output_type": "execute_result"
    }
   ],
   "source": [
    "nans"
   ]
  },
  {
   "cell_type": "code",
   "execution_count": 7,
   "metadata": {},
   "outputs": [],
   "source": [
    "# Fixing formatting\n",
    "df['Effects'] = df['Effects'].str.lower()\n",
    "df['Flavor'] = df['Flavor'].str.lower()\n",
    "df['Description'] = df['Description'].str.lower()\n",
    "df['Strain'] = df['Strain'].str.lower()"
   ]
  },
  {
   "cell_type": "code",
   "execution_count": 8,
   "metadata": {},
   "outputs": [],
   "source": [
    "#make the data PostgreSQL friendly\n",
    "df[\"Description\"] = df[\"Description\"].str.replace(\"'\", '')\n",
    "df.Effects = df.Effects.str.replace(\",\", \", \")\n",
    "df.Flavor = df.Flavor.str.replace(\",\", \", \")\n",
    "df['Strain'] = df['Strain'].str.replace('-', ' ')\n",
    "df.replace(np.nan, '', inplace=True)"
   ]
  },
  {
   "cell_type": "code",
   "execution_count": 9,
   "metadata": {},
   "outputs": [],
   "source": [
    "df['Rating'] = df['Rating'].apply(lambda s: np.NaN if s == 0.0 else s)\n",
    "df['Effects'] = df['Effects'].apply(lambda s: np.NaN if s == \"None\" else s)\n",
    "df['Flavors'] = df['Flavor'].apply(lambda s: np.NaN if s == \"None\" else s)\n",
    "df = df.drop(columns=['Flavor'])"
   ]
  },
  {
   "cell_type": "code",
   "execution_count": 10,
   "metadata": {},
   "outputs": [],
   "source": [
    "df = df.dropna().reset_index().drop(columns=['index']).reset_index()"
   ]
  },
  {
   "cell_type": "code",
   "execution_count": 11,
   "metadata": {},
   "outputs": [],
   "source": [
    "# sorting the values by the ratings\n",
    "df = df.sort_values(by=['Rating'], ascending=False)"
   ]
  },
  {
   "cell_type": "code",
   "execution_count": 12,
   "metadata": {},
   "outputs": [
    {
     "data": {
      "text/plain": [
       "(1.0, 5.0)"
      ]
     },
     "execution_count": 12,
     "metadata": {},
     "output_type": "execute_result"
    }
   ],
   "source": [
    "df['Rating'].min(), df['Rating'].max()"
   ]
  },
  {
   "cell_type": "code",
   "execution_count": 13,
   "metadata": {},
   "outputs": [],
   "source": [
    "def transpose(x):\n",
    "    return round((x - 2.8) * (5.0 / (5.0 - 2.8)), 2)"
   ]
  },
  {
   "cell_type": "code",
   "execution_count": 14,
   "metadata": {},
   "outputs": [],
   "source": [
    "df['Rating'] = df['Rating'].apply(transpose)"
   ]
  },
  {
   "cell_type": "code",
   "execution_count": 15,
   "metadata": {},
   "outputs": [],
   "source": [
    "# replace index column name to Strain_ID\n",
    "df = df.rename(columns = {'index': 'Strain_ID'})\n"
   ]
  },
  {
   "cell_type": "code",
   "execution_count": 16,
   "metadata": {},
   "outputs": [],
   "source": [
    "# df = df.replace({'': 'index'})"
   ]
  },
  {
   "cell_type": "code",
   "execution_count": 17,
   "metadata": {},
   "outputs": [],
   "source": [
    "# changing headers from upper to lower case\n",
    "df = df.rename(columns = {'Strain_ID': 'strain_id', 'Strain': 'strain', 'Type': 'type', 'Effects': 'effects', 'Flavor': 'flavor',\n",
    "                         'Description': 'description'})"
   ]
  },
  {
   "cell_type": "code",
   "execution_count": 18,
   "metadata": {},
   "outputs": [
    {
     "data": {
      "text/html": [
       "<div>\n",
       "<style scoped>\n",
       "    .dataframe tbody tr th:only-of-type {\n",
       "        vertical-align: middle;\n",
       "    }\n",
       "\n",
       "    .dataframe tbody tr th {\n",
       "        vertical-align: top;\n",
       "    }\n",
       "\n",
       "    .dataframe thead th {\n",
       "        text-align: right;\n",
       "    }\n",
       "</style>\n",
       "<table border=\"1\" class=\"dataframe\">\n",
       "  <thead>\n",
       "    <tr style=\"text-align: right;\">\n",
       "      <th></th>\n",
       "      <th>strain_id</th>\n",
       "      <th>strain</th>\n",
       "      <th>type</th>\n",
       "      <th>Rating</th>\n",
       "      <th>effects</th>\n",
       "      <th>description</th>\n",
       "      <th>Flavors</th>\n",
       "    </tr>\n",
       "  </thead>\n",
       "  <tbody>\n",
       "    <tr>\n",
       "      <th>1838</th>\n",
       "      <td>1838</td>\n",
       "      <td>silver nina</td>\n",
       "      <td>hybrid</td>\n",
       "      <td>5.0</td>\n",
       "      <td>creative, energetic, focused, happy, aroused</td>\n",
       "      <td>silver nina by colorado seed inc. is the stabi...</td>\n",
       "      <td>citrus</td>\n",
       "    </tr>\n",
       "    <tr>\n",
       "      <th>1834</th>\n",
       "      <td>1834</td>\n",
       "      <td>silver calyx</td>\n",
       "      <td>hybrid</td>\n",
       "      <td>5.0</td>\n",
       "      <td>aroused, energetic, euphoric, focused, relaxed</td>\n",
       "      <td>silver calyx by calyx garden is a balanced hyb...</td>\n",
       "      <td>lemon, tree, fruit, pine</td>\n",
       "    </tr>\n",
       "    <tr>\n",
       "      <th>1779</th>\n",
       "      <td>1779</td>\n",
       "      <td>royal tree sherbet</td>\n",
       "      <td>hybrid</td>\n",
       "      <td>5.0</td>\n",
       "      <td>relaxed</td>\n",
       "      <td>sherbet by royal tree gardens is another genet...</td>\n",
       "      <td>tropical, sweet, berry</td>\n",
       "    </tr>\n",
       "    <tr>\n",
       "      <th>1804</th>\n",
       "      <td>1804</td>\n",
       "      <td>scouts honor</td>\n",
       "      <td>hybrid</td>\n",
       "      <td>5.0</td>\n",
       "      <td>relaxed, creative, giggly, talkative, uplifted</td>\n",
       "      <td>scout’s honor is an indica-dominant hybrid cre...</td>\n",
       "      <td>sweet, tropical, flowery</td>\n",
       "    </tr>\n",
       "    <tr>\n",
       "      <th>1805</th>\n",
       "      <td>1805</td>\n",
       "      <td>scroopy noopers</td>\n",
       "      <td>hybrid</td>\n",
       "      <td>5.0</td>\n",
       "      <td>euphoric, hungry, relaxed</td>\n",
       "      <td>scroopy noopers by green dream is a modern hom...</td>\n",
       "      <td>pungent, coffee</td>\n",
       "    </tr>\n",
       "    <tr>\n",
       "      <th>262</th>\n",
       "      <td>262</td>\n",
       "      <td>blood orange kush</td>\n",
       "      <td>indica</td>\n",
       "      <td>5.0</td>\n",
       "      <td>sleepy, uplifted, euphoric, happy, creative</td>\n",
       "      <td>blood orange kush is an indica-dominant cross ...</td>\n",
       "      <td>diesel, citrus, orange</td>\n",
       "    </tr>\n",
       "    <tr>\n",
       "      <th>1809</th>\n",
       "      <td>1809</td>\n",
       "      <td>secret garden og</td>\n",
       "      <td>indica</td>\n",
       "      <td>5.0</td>\n",
       "      <td>euphoric, talkative, uplifted, creative, energ...</td>\n",
       "      <td>secret garden og is a colorado seed inc. maste...</td>\n",
       "      <td>flowery, lavender, honey</td>\n",
       "    </tr>\n",
       "    <tr>\n",
       "      <th>258</th>\n",
       "      <td>258</td>\n",
       "      <td>blizzard bush</td>\n",
       "      <td>hybrid</td>\n",
       "      <td>5.0</td>\n",
       "      <td>talkative, uplifted, creative, energetic, euph...</td>\n",
       "      <td>blizzard bush by greenpoint seeds is a resinou...</td>\n",
       "      <td>flowery, earthy, pungent</td>\n",
       "    </tr>\n",
       "    <tr>\n",
       "      <th>997</th>\n",
       "      <td>997</td>\n",
       "      <td>hawaiian trinity</td>\n",
       "      <td>hybrid</td>\n",
       "      <td>5.0</td>\n",
       "      <td>talkative, uplifted, creative, euphoric, focused</td>\n",
       "      <td>hawaiian trinity by pua mana 1st hawaiian paka...</td>\n",
       "      <td>sweet, tropical, flowery</td>\n",
       "    </tr>\n",
       "    <tr>\n",
       "      <th>1835</th>\n",
       "      <td>1835</td>\n",
       "      <td>silver cindy</td>\n",
       "      <td>hybrid</td>\n",
       "      <td>5.0</td>\n",
       "      <td>aroused, uplifted, energetic, euphoric, happy</td>\n",
       "      <td>colorado seed inc. brings speedy effects and e...</td>\n",
       "      <td>none</td>\n",
       "    </tr>\n",
       "  </tbody>\n",
       "</table>\n",
       "</div>"
      ],
      "text/plain": [
       "      strain_id              strain    type  Rating  \\\n",
       "1838       1838         silver nina  hybrid     5.0   \n",
       "1834       1834        silver calyx  hybrid     5.0   \n",
       "1779       1779  royal tree sherbet  hybrid     5.0   \n",
       "1804       1804        scouts honor  hybrid     5.0   \n",
       "1805       1805     scroopy noopers  hybrid     5.0   \n",
       "262         262   blood orange kush  indica     5.0   \n",
       "1809       1809    secret garden og  indica     5.0   \n",
       "258         258       blizzard bush  hybrid     5.0   \n",
       "997         997    hawaiian trinity  hybrid     5.0   \n",
       "1835       1835        silver cindy  hybrid     5.0   \n",
       "\n",
       "                                                effects  \\\n",
       "1838       creative, energetic, focused, happy, aroused   \n",
       "1834     aroused, energetic, euphoric, focused, relaxed   \n",
       "1779                                            relaxed   \n",
       "1804     relaxed, creative, giggly, talkative, uplifted   \n",
       "1805                          euphoric, hungry, relaxed   \n",
       "262         sleepy, uplifted, euphoric, happy, creative   \n",
       "1809  euphoric, talkative, uplifted, creative, energ...   \n",
       "258   talkative, uplifted, creative, energetic, euph...   \n",
       "997    talkative, uplifted, creative, euphoric, focused   \n",
       "1835      aroused, uplifted, energetic, euphoric, happy   \n",
       "\n",
       "                                            description  \\\n",
       "1838  silver nina by colorado seed inc. is the stabi...   \n",
       "1834  silver calyx by calyx garden is a balanced hyb...   \n",
       "1779  sherbet by royal tree gardens is another genet...   \n",
       "1804  scout’s honor is an indica-dominant hybrid cre...   \n",
       "1805  scroopy noopers by green dream is a modern hom...   \n",
       "262   blood orange kush is an indica-dominant cross ...   \n",
       "1809  secret garden og is a colorado seed inc. maste...   \n",
       "258   blizzard bush by greenpoint seeds is a resinou...   \n",
       "997   hawaiian trinity by pua mana 1st hawaiian paka...   \n",
       "1835  colorado seed inc. brings speedy effects and e...   \n",
       "\n",
       "                       Flavors  \n",
       "1838                    citrus  \n",
       "1834  lemon, tree, fruit, pine  \n",
       "1779    tropical, sweet, berry  \n",
       "1804  sweet, tropical, flowery  \n",
       "1805           pungent, coffee  \n",
       "262     diesel, citrus, orange  \n",
       "1809  flowery, lavender, honey  \n",
       "258   flowery, earthy, pungent  \n",
       "997   sweet, tropical, flowery  \n",
       "1835                      none  "
      ]
     },
     "execution_count": 18,
     "metadata": {},
     "output_type": "execute_result"
    }
   ],
   "source": [
    "df.head(10)"
   ]
  },
  {
   "cell_type": "code",
   "execution_count": 19,
   "metadata": {},
   "outputs": [
    {
     "data": {
      "text/plain": [
       "(-4.09, 5.0, 2316)"
      ]
     },
     "execution_count": 19,
     "metadata": {},
     "output_type": "execute_result"
    }
   ],
   "source": [
    "# checking the ratings values\n",
    "df['Rating'].min(), df['Rating'].max(), len(df['Rating'])"
   ]
  },
  {
   "cell_type": "code",
   "execution_count": 20,
   "metadata": {},
   "outputs": [
    {
     "data": {
      "text/plain": [
       "1838         creative, energetic, focused, happy, aroused\n",
       "1834       aroused, energetic, euphoric, focused, relaxed\n",
       "1779                                              relaxed\n",
       "1804       relaxed, creative, giggly, talkative, uplifted\n",
       "1805                            euphoric, hungry, relaxed\n",
       "                              ...                        \n",
       "1520     uplifted, creative, energetic, euphoric, focused\n",
       "2048                                       happy, relaxed\n",
       "269             giggly, uplifted, creative, happy, sleepy\n",
       "2274    talkative, uplifted, creative, energetic, euph...\n",
       "1698                                                 none\n",
       "Name: effects, Length: 2316, dtype: object"
      ]
     },
     "execution_count": 20,
     "metadata": {},
     "output_type": "execute_result"
    }
   ],
   "source": [
    "# cleaning using RegEx re.sub() function to replace '\\n' sub-string with \"\".\n",
    "df['effects'] = df['effects'].apply(lambda x : re.sub(r'\\n', \"\", x))\n",
    "df['effects']"
   ]
  },
  {
   "cell_type": "code",
   "execution_count": 21,
   "metadata": {},
   "outputs": [
    {
     "data": {
      "text/html": [
       "<div>\n",
       "<style scoped>\n",
       "    .dataframe tbody tr th:only-of-type {\n",
       "        vertical-align: middle;\n",
       "    }\n",
       "\n",
       "    .dataframe tbody tr th {\n",
       "        vertical-align: top;\n",
       "    }\n",
       "\n",
       "    .dataframe thead th {\n",
       "        text-align: right;\n",
       "    }\n",
       "</style>\n",
       "<table border=\"1\" class=\"dataframe\">\n",
       "  <thead>\n",
       "    <tr style=\"text-align: right;\">\n",
       "      <th></th>\n",
       "      <th>strain_id</th>\n",
       "      <th>strain</th>\n",
       "      <th>type</th>\n",
       "      <th>Rating</th>\n",
       "      <th>effects</th>\n",
       "      <th>description</th>\n",
       "      <th>Flavors</th>\n",
       "    </tr>\n",
       "  </thead>\n",
       "  <tbody>\n",
       "    <tr>\n",
       "      <th>1838</th>\n",
       "      <td>1838</td>\n",
       "      <td>silver nina</td>\n",
       "      <td>hybrid</td>\n",
       "      <td>5.0</td>\n",
       "      <td>creative, energetic, focused, happy, aroused</td>\n",
       "      <td>silver nina by colorado seed inc. is the stabi...</td>\n",
       "      <td>citrus</td>\n",
       "    </tr>\n",
       "    <tr>\n",
       "      <th>1834</th>\n",
       "      <td>1834</td>\n",
       "      <td>silver calyx</td>\n",
       "      <td>hybrid</td>\n",
       "      <td>5.0</td>\n",
       "      <td>aroused, energetic, euphoric, focused, relaxed</td>\n",
       "      <td>silver calyx by calyx garden is a balanced hyb...</td>\n",
       "      <td>lemon, tree, fruit, pine</td>\n",
       "    </tr>\n",
       "    <tr>\n",
       "      <th>1779</th>\n",
       "      <td>1779</td>\n",
       "      <td>royal tree sherbet</td>\n",
       "      <td>hybrid</td>\n",
       "      <td>5.0</td>\n",
       "      <td>relaxed</td>\n",
       "      <td>sherbet by royal tree gardens is another genet...</td>\n",
       "      <td>tropical, sweet, berry</td>\n",
       "    </tr>\n",
       "    <tr>\n",
       "      <th>1804</th>\n",
       "      <td>1804</td>\n",
       "      <td>scouts honor</td>\n",
       "      <td>hybrid</td>\n",
       "      <td>5.0</td>\n",
       "      <td>relaxed, creative, giggly, talkative, uplifted</td>\n",
       "      <td>scout’s honor is an indica-dominant hybrid cre...</td>\n",
       "      <td>sweet, tropical, flowery</td>\n",
       "    </tr>\n",
       "    <tr>\n",
       "      <th>1805</th>\n",
       "      <td>1805</td>\n",
       "      <td>scroopy noopers</td>\n",
       "      <td>hybrid</td>\n",
       "      <td>5.0</td>\n",
       "      <td>euphoric, hungry, relaxed</td>\n",
       "      <td>scroopy noopers by green dream is a modern hom...</td>\n",
       "      <td>pungent, coffee</td>\n",
       "    </tr>\n",
       "  </tbody>\n",
       "</table>\n",
       "</div>"
      ],
      "text/plain": [
       "      strain_id              strain    type  Rating  \\\n",
       "1838       1838         silver nina  hybrid     5.0   \n",
       "1834       1834        silver calyx  hybrid     5.0   \n",
       "1779       1779  royal tree sherbet  hybrid     5.0   \n",
       "1804       1804        scouts honor  hybrid     5.0   \n",
       "1805       1805     scroopy noopers  hybrid     5.0   \n",
       "\n",
       "                                             effects  \\\n",
       "1838    creative, energetic, focused, happy, aroused   \n",
       "1834  aroused, energetic, euphoric, focused, relaxed   \n",
       "1779                                         relaxed   \n",
       "1804  relaxed, creative, giggly, talkative, uplifted   \n",
       "1805                       euphoric, hungry, relaxed   \n",
       "\n",
       "                                            description  \\\n",
       "1838  silver nina by colorado seed inc. is the stabi...   \n",
       "1834  silver calyx by calyx garden is a balanced hyb...   \n",
       "1779  sherbet by royal tree gardens is another genet...   \n",
       "1804  scout’s honor is an indica-dominant hybrid cre...   \n",
       "1805  scroopy noopers by green dream is a modern hom...   \n",
       "\n",
       "                       Flavors  \n",
       "1838                    citrus  \n",
       "1834  lemon, tree, fruit, pine  \n",
       "1779    tropical, sweet, berry  \n",
       "1804  sweet, tropical, flowery  \n",
       "1805           pungent, coffee  "
      ]
     },
     "execution_count": 21,
     "metadata": {},
     "output_type": "execute_result"
    }
   ],
   "source": [
    "df.head()"
   ]
  },
  {
   "cell_type": "code",
   "execution_count": 22,
   "metadata": {},
   "outputs": [],
   "source": [
    "df.to_csv('cannabis_strain.csv')"
   ]
  }
 ],
 "metadata": {
  "kernelspec": {
   "display_name": "Python 3",
   "language": "python",
   "name": "python3"
  },
  "language_info": {
   "codemirror_mode": {
    "name": "ipython",
    "version": 3
   },
   "file_extension": ".py",
   "mimetype": "text/x-python",
   "name": "python",
   "nbconvert_exporter": "python",
   "pygments_lexer": "ipython3",
   "version": "3.7.6"
  }
 },
 "nbformat": 4,
 "nbformat_minor": 4
}
